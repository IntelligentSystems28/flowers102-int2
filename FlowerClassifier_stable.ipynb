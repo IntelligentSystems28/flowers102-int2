{
  "cells": [
    {
      "cell_type": "code",
      "execution_count": 14,
      "metadata": {
        "ExecuteTime": {
          "end_time": "2023-05-06T02:42:30.107696Z",
          "start_time": "2023-05-06T02:42:27.187630500Z"
        },
        "id": "W9QpA0RFXaeG"
      },
      "outputs": [],
      "source": [
        "import numpy as np\n",
        "import matplotlib.pyplot as plt\n",
        "import time\n",
        "from PIL import Image\n",
        "\n",
        "import torch\n",
        "torch.cuda.empty_cache()\n",
        "from torch import nn\n",
        "from torch import optim\n",
        "from torchvision import datasets, transforms, models\n",
        "import torch.optim.lr_scheduler as lr_scheduler\n",
        "\n",
        "from collections import OrderedDict"
      ]
    },
    {
      "cell_type": "code",
      "execution_count": 15,
      "metadata": {
        "ExecuteTime": {
          "end_time": "2023-05-06T02:42:30.121911300Z",
          "start_time": "2023-05-06T02:42:30.109702900Z"
        },
        "id": "hxEFQSjDXaeS"
      },
      "outputs": [],
      "source": [
        "tr_batchsize = 32\n",
        "val_test_batchsize = 16\n",
        "epochs = 150\n",
        "lr = 0.0001"
      ]
    },
    {
      "cell_type": "code",
      "execution_count": 16,
      "metadata": {
        "ExecuteTime": {
          "end_time": "2023-05-06T02:42:30.166461200Z",
          "start_time": "2023-05-06T02:42:30.124922400Z"
        },
        "colab": {
          "base_uri": "https://localhost:8080/"
        },
        "id": "utaO7saJXaeU",
        "outputId": "dbccc711-f60b-4157-f0f0-80cb03205bac"
      },
      "outputs": [
        {
          "output_type": "stream",
          "name": "stdout",
          "text": [
            "Found 1 GPUs.\n",
            "Now the deivce is set to cuda:0\n"
          ]
        }
      ],
      "source": [
        "# By defalt, set device to the CPU\n",
        "deviceFlag = torch.device('cpu')\n",
        "\n",
        "# Default is CPU, but as long as GPU is avaliable, then use GPU\n",
        "if torch.cuda.is_available():\n",
        "    print(f'Found {torch.cuda.device_count()} GPUs.')\n",
        "    deviceFlag = torch.device('cuda:0') # Manually pick your cuda device. By default is 'cuda:0'\n",
        "\n",
        "print(f'Now the deivce is set to {deviceFlag}')"
      ]
    },
    {
      "cell_type": "markdown",
      "metadata": {
        "id": "BJHUEMBdXaeY"
      },
      "source": [
        "# Validation Function"
      ]
    },
    {
      "cell_type": "code",
      "execution_count": 17,
      "metadata": {
        "ExecuteTime": {
          "end_time": "2023-05-06T02:47:50.942069700Z",
          "start_time": "2023-05-06T02:47:50.925699Z"
        },
        "id": "gaO-2WtYXaec"
      },
      "outputs": [],
      "source": [
        "def validation(model, validate_loader, val_criterion):\n",
        "    \n",
        "    val_loss_running = 0\n",
        "    acc = 0\n",
        "    \n",
        "    # a dataloader object is a generator of batches, each batch contain image & label separately\n",
        "    for images, labels in iter(validate_loader):\n",
        "        \n",
        "        # Send the data onto choosen device\n",
        "        images = images.to(deviceFlag)\n",
        "        labels = labels.to(deviceFlag)\n",
        "        \n",
        "        output = model.forward(images)\n",
        "        val_loss_running += val_criterion(output, labels).item() #*images.size(0) # .item() to get a scalar in Torch.tensor out\n",
        "        \n",
        "        probabilities = torch.exp(output) # as in the model we use the .LogSoftmax() output layer\n",
        "\n",
        "        equality = (labels.data == probabilities.max(dim=1)[1])\n",
        "        acc += equality.type(torch.FloatTensor).mean()\n",
        "        \n",
        "    return val_loss_running, acc"
      ]
    },
    {
      "cell_type": "markdown",
      "metadata": {
        "id": "aiTV0IYLXaef"
      },
      "source": [
        "# Training Function\n",
        "(Calls Validation function)"
      ]
    },
    {
      "cell_type": "code",
      "source": [
        "def train_model():\n",
        "      steps = 0\n",
        "      print_every = 16\n",
        "\n",
        "      model.to(deviceFlag)\n",
        "\n",
        "      for current_epoch in range(epochs):\n",
        "          model.train()\n",
        "    \n",
        "          running_loss = 0\n",
        "    \n",
        "          for images, labels in iter(train_loader):\n",
        "        \n",
        "              steps += 1\n",
        "        \n",
        "              images = images.to(deviceFlag)\n",
        "              labels = labels.to(deviceFlag)\n",
        "        \n",
        "              optimizer.zero_grad()\n",
        "        \n",
        "              output = model.forward(images)\n",
        "              loss = criterion(output, labels)\n",
        "              loss.backward()\n",
        "              optimizer.step()\n",
        "        \n",
        "              running_loss += loss.item()\n",
        "        \n",
        "              if steps % print_every == 0:\n",
        "                \n",
        "                  model.eval()\n",
        "                \n",
        "                  # Turn off gradients for validation, saves memory and computations\n",
        "                  with torch.no_grad():\n",
        "                      validation_loss, accuracy = validation(model, validate_loader, criterion)\n",
        "            \n",
        "                  print(\"Epoch: {}/{}.. \".format(current_epoch+1, epochs),\n",
        "                        \"Training Loss: {:.3f}... \".format(running_loss/print_every),\n",
        "                        \"Validation Loss: {:.3f}... \".format(validation_loss/len(validate_loader)),\n",
        "                        \"Validation Accuracy: {:.3f}\".format(accuracy/len(validate_loader)))\n",
        "                        # f\"Current Learning Rate: {optimizer.param_groups[0]['lr']}\")\n",
        "            \n",
        "                  running_loss = 0\n",
        "                  model.train()\n",
        "          # scheduler.step()"
      ],
      "metadata": {
        "id": "hHznM_83Vlkd"
      },
      "execution_count": 18,
      "outputs": []
    },
    {
      "cell_type": "markdown",
      "metadata": {
        "id": "ydLbMZ3bXaej"
      },
      "source": [
        "# Test Function"
      ]
    },
    {
      "cell_type": "code",
      "source": [
        "def test_acc(model, test_loader):\n",
        "\n",
        "    # Do validation on the test set\n",
        "    model.eval()\n",
        "    model.to(deviceFlag)\n",
        "\n",
        "    with torch.no_grad():\n",
        "    \n",
        "        accuracy = 0\n",
        "    \n",
        "        for images, labels in iter(test_loader):\n",
        "    \n",
        "            images, labels = images.to(deviceFlag), labels.to(deviceFlag)\n",
        "    \n",
        "            output = model.forward(images)\n",
        "\n",
        "            probabilities = torch.exp(output)\n",
        "        \n",
        "            equality = (labels.data == probabilities.max(dim=1)[1])\n",
        "        \n",
        "            accuracy += equality.type(torch.FloatTensor).mean()\n",
        "        \n",
        "        print(\"Test Accuracy: {}\".format(accuracy/len(test_loader)))    \n",
        "        \n",
        "        "
      ],
      "metadata": {
        "id": "UTpojsKscKYN"
      },
      "execution_count": 19,
      "outputs": []
    },
    {
      "cell_type": "code",
      "source": [
        "class AddGaussianNoise(object):\n",
        "    def __init__(self, mean=0., std=1.):\n",
        "        self.std = std\n",
        "        self.mean = mean\n",
        "        \n",
        "    def __call__(self, x):\n",
        "        return x + torch.randn(x.size()) * self.std + self.mean\n",
        "    \n",
        "    def __repr__(self):\n",
        "        return self.__class__.__name__ + '(mean={0}, std={1})'.format(self.mean, self.std)"
      ],
      "metadata": {
        "id": "DtBHK52XLJWi"
      },
      "execution_count": 20,
      "outputs": []
    },
    {
      "cell_type": "markdown",
      "metadata": {
        "id": "_685vsvbXaew"
      },
      "source": [
        "# Dataset Loading"
      ]
    },
    {
      "cell_type": "code",
      "execution_count": 21,
      "metadata": {
        "ExecuteTime": {
          "end_time": "2023-05-06T02:42:30.528548400Z",
          "start_time": "2023-05-06T02:42:30.282928200Z"
        },
        "id": "gqNirA-VXaew"
      },
      "outputs": [],
      "source": [
        "training_transforms = transforms.Compose([\n",
        "    transforms.RandomRotation(90),\n",
        "    transforms.RandomResizedCrop(256),\n",
        "    transforms.RandomAdjustSharpness(2, 0.5),\n",
        "    # transforms.RandomErasing(),\n",
        "    transforms.RandomHorizontalFlip(p=0.7),\n",
        "    transforms.RandomVerticalFlip(p=0.2),\n",
        "    transforms.ToTensor(),\n",
        "    transforms.Normalize(0, 1)\n",
        "    # transforms.RandomApply([AddGaussianNoise(0, 1)], p=0.2)\n",
        "])\n",
        "\n",
        "validation_transforms = transforms.Compose([\n",
        "    transforms.Resize(256),\n",
        "    transforms.CenterCrop(256),\n",
        "    transforms.ToTensor(),\n",
        "    transforms.Normalize(0, 1)\n",
        "])\n",
        "\n",
        "testing_transforms = transforms.Compose([\n",
        "    transforms.Resize(256),\n",
        "    transforms.CenterCrop(256),\n",
        "    transforms.ToTensor(),\n",
        "    transforms.Normalize(0, 1)\n",
        "])\n",
        "\n",
        "# Load the datasets with torchvision.datasets.ImageFolder object\n",
        "train_dataset = datasets.Flowers102(root = './dataset', split = 'train', transform = training_transforms, download = True)\n",
        "valid_dataset = datasets.Flowers102(root = './dataset', split = 'val', transform = validation_transforms, download = True)\n",
        "test_dataset = datasets.Flowers102(root = './dataset', split = 'test', transform = testing_transforms, download = True)\n",
        "\n",
        "# Instantiate loader objects to facilitate processing\n",
        "\n",
        "\n",
        "# Define the torch.utils.data.DataLoader() object with the ImageFolder object\n",
        "# Dataloader is a generator to read from ImageFolder and generate them into batch-by-batch\n",
        "# Only shuffle during trianing, validation and testing no shuffles\n",
        "# the batchsize for training and tesitng no need to be the same\n",
        "train_loader = torch.utils.data.DataLoader(dataset = train_dataset,\n",
        "                                           batch_size = tr_batchsize,\n",
        "                                           shuffle = True)\n",
        "\n",
        "validate_loader = torch.utils.data.DataLoader(dataset = valid_dataset,\n",
        "                                           batch_size = val_test_batchsize)\n",
        "\n",
        "\n",
        "test_loader = torch.utils.data.DataLoader(dataset = test_dataset,\n",
        "                                           batch_size = val_test_batchsize)"
      ]
    },
    {
      "cell_type": "code",
      "source": [
        "class VGG16(nn.Module):\n",
        "    def __init__(self):\n",
        "        super(VGG16, self).__init__()\n",
        "        self.layer1 = nn.Sequential(\n",
        "            nn.Conv2d(3, 32, kernel_size=3, stride=1, padding=1),\n",
        "            nn.BatchNorm2d(32),\n",
        "            nn.ReLU(),\n",
        "            nn.MaxPool2d(kernel_size = 2, stride = 2))\n",
        "        self.layer2 = nn.Sequential(\n",
        "            nn.Conv2d(32, 64, kernel_size=3, stride=1, padding=1),\n",
        "            nn.BatchNorm2d(64),\n",
        "            nn.ReLU(), \n",
        "            nn.MaxPool2d(kernel_size = 2, stride = 2))\n",
        "        self.layer3 = nn.Sequential(\n",
        "            nn.Conv2d(64, 128, kernel_size=3, stride=1, padding=1),\n",
        "            nn.BatchNorm2d(128),\n",
        "            nn.ReLU(), \n",
        "            nn.MaxPool2d(kernel_size = 2, stride = 2))\n",
        "        self.layer4 = nn.Sequential(\n",
        "            nn.Conv2d(128, 256, kernel_size=1, stride=1, padding=1),\n",
        "            nn.BatchNorm2d(256),\n",
        "            nn.ReLU(),\n",
        "            nn.MaxPool2d(kernel_size = 2, stride = 2))\n",
        "        self.layer5 = nn.Sequential(\n",
        "            nn.Conv2d(256, 256, kernel_size=3, stride=1, padding=1),\n",
        "            nn.BatchNorm2d(256),\n",
        "            nn.ReLU(),\n",
        "            nn.MaxPool2d(kernel_size = 2, stride =2))\n",
        "        self.layer6 = nn.Sequential(\n",
        "            nn.Conv2d(256, 128, kernel_size=3, stride=1, padding=1),\n",
        "            nn.BatchNorm2d(128),\n",
        "            nn.ReLU(),\n",
        "            nn.MaxPool2d(kernel_size =2, stride = 2))\n",
        "        self.layer7 = nn.Sequential(\n",
        "            nn.Conv2d(128, 128, kernel_size=3, stride=1, padding=1),\n",
        "            nn.BatchNorm2d(128),\n",
        "            nn.MaxPool2d(kernel_size = 2, stride = 2))\n",
        "            #nn.Conv2d(128, 256, kernel_size=3, stride=1, padding=1),\n",
        "            #nn.BatchNorm2d(256),\n",
        "            #nn.ReLU(),\n",
        "            #nn.MaxPool2d(kernel_size = 2, stride = 2))\n",
        "            #nn.Conv2d(256, 512, kernel_size=3, stride=1, padding=1),\n",
        "            #nn.BatchNorm2d(512),\n",
        "            #nn.ReLU())\n",
        "            #nn.Conv2d(512, 512, kernel_size=3, stride=1, padding=1),\n",
        "            #nn.BatchNorm2d(512),\n",
        "            #nn.ReLU())\n",
        "            #nn.Conv2d(512, 512, kernel_size=3, stride=1, padding=1),\n",
        "            #nn.BatchNorm2d(512),\n",
        "            #nn.ReLU(),\n",
        "            #nn.MaxPool2d(kernel_size = 2, stride = 2))\n",
        "            #nn.Conv2d(512, 512, kernel_size=3, stride=1, padding=1),\n",
        "            #nn.BatchNorm2d(512),\n",
        "            #nn.ReLU())\n",
        "            #nn.Conv2d(512, 512, kernel_size=3, stride=1, padding=1),\n",
        "            #nn.BatchNorm2d(512),\n",
        "            #nn.ReLU())\n",
        "            #nn.Conv2d(512, 512, kernel_size=3, stride=1, padding=1),\n",
        "            #nn.BatchNorm2d(512),\n",
        "            #nn.ReLU(),\n",
        "            #nn.MaxPool2d(kernel_size = 2, stride = 2))\n",
        "\n",
        "        self.fc1 = nn.Sequential(\n",
        "            nn.Flatten(),\n",
        "            nn.Dropout(p=0.5),\n",
        "            # first linear must be image size * image size * last Conv2d out channel\n",
        "            nn.Linear(10368, 5000),\n",
        "            nn.BatchNorm1d(5000), \n",
        "            nn.ReLU())\n",
        "        self.fc2 = nn.Sequential(\n",
        "            nn.Dropout(0.2),\n",
        "            nn.Linear(5000, 1024),\n",
        "            nn.BatchNorm1d(1024), \n",
        "            nn.ReLU())\n",
        "        self.fc3 = nn.Sequential(\n",
        "            #final linear to number of classes\n",
        "            nn.Linear(1024, 102),\n",
        "            nn.LogSoftmax(dim=1))\n",
        "\n",
        "        \n",
        "    def forward(self, x):\n",
        "        out = self.layer1(x)\n",
        "\n",
        "        out = self.layer2(out)\n",
        "        out = self.layer3(out)\n",
        "        out = self.layer4(out)\n",
        "        out = self.layer5(out)\n",
        "        out = self.layer6(out)\n",
        "        out = self.layer7(out)\n",
        "\n",
        "        out = self.fc1(out)\n",
        "        out = self.fc2(out)\n",
        "        out = out.reshape(out.shape[0], -1)\n",
        "        out = self.fc3(out)\n",
        "\n",
        "        return out"
      ],
      "metadata": {
        "id": "6rFfGlV923az"
      },
      "execution_count": 22,
      "outputs": []
    },
    {
      "cell_type": "code",
      "execution_count": 23,
      "metadata": {
        "ExecuteTime": {
          "end_time": "2023-05-06T02:42:58.741422200Z",
          "start_time": "2023-05-06T02:42:57.999495100Z"
        },
        "colab": {
          "base_uri": "https://localhost:8080/"
        },
        "id": "aWmJtZd2Xaex",
        "outputId": "92d1db2d-cbf1-41a5-85f0-b1b976fe30d9"
      },
      "outputs": [
        {
          "output_type": "execute_result",
          "data": {
            "text/plain": [
              "VGG16(\n",
              "  (layer1): Sequential(\n",
              "    (0): Conv2d(3, 32, kernel_size=(3, 3), stride=(1, 1), padding=(1, 1))\n",
              "    (1): BatchNorm2d(32, eps=1e-05, momentum=0.1, affine=True, track_running_stats=True)\n",
              "    (2): ReLU()\n",
              "    (3): MaxPool2d(kernel_size=8, stride=8, padding=0, dilation=1, ceil_mode=False)\n",
              "  )\n",
              "  (layer2): Sequential(\n",
              "    (0): Conv2d(32, 64, kernel_size=(3, 3), stride=(1, 1), padding=(1, 1))\n",
              "    (1): BatchNorm2d(64, eps=1e-05, momentum=0.1, affine=True, track_running_stats=True)\n",
              "    (2): ReLU()\n",
              "    (3): MaxPool2d(kernel_size=2, stride=1, padding=0, dilation=1, ceil_mode=False)\n",
              "  )\n",
              "  (layer3): Sequential(\n",
              "    (0): Conv2d(64, 128, kernel_size=(3, 3), stride=(1, 1), padding=(1, 1))\n",
              "    (1): BatchNorm2d(128, eps=1e-05, momentum=0.1, affine=True, track_running_stats=True)\n",
              "    (2): ReLU()\n",
              "    (3): MaxPool2d(kernel_size=2, stride=1, padding=0, dilation=1, ceil_mode=False)\n",
              "  )\n",
              "  (layer4): Sequential(\n",
              "    (0): Conv2d(128, 256, kernel_size=(1, 1), stride=(1, 1), padding=(1, 1))\n",
              "    (1): BatchNorm2d(256, eps=1e-05, momentum=0.1, affine=True, track_running_stats=True)\n",
              "    (2): ReLU()\n",
              "    (3): MaxPool2d(kernel_size=2, stride=1, padding=0, dilation=1, ceil_mode=False)\n",
              "  )\n",
              "  (layer5): Sequential(\n",
              "    (0): Conv2d(256, 256, kernel_size=(3, 3), stride=(1, 1), padding=(1, 1))\n",
              "    (1): BatchNorm2d(256, eps=1e-05, momentum=0.1, affine=True, track_running_stats=True)\n",
              "    (2): ReLU()\n",
              "    (3): MaxPool2d(kernel_size=2, stride=1, padding=0, dilation=1, ceil_mode=False)\n",
              "  )\n",
              "  (layer6): Sequential(\n",
              "    (0): Conv2d(256, 128, kernel_size=(3, 3), stride=(1, 1), padding=(1, 1))\n",
              "    (1): BatchNorm2d(128, eps=1e-05, momentum=0.1, affine=True, track_running_stats=True)\n",
              "    (2): ReLU()\n",
              "    (3): MaxPool2d(kernel_size=3, stride=3, padding=0, dilation=1, ceil_mode=False)\n",
              "  )\n",
              "  (layer7): Sequential(\n",
              "    (0): Conv2d(128, 128, kernel_size=(3, 3), stride=(1, 1), padding=(1, 1))\n",
              "    (1): BatchNorm2d(128, eps=1e-05, momentum=0.1, affine=True, track_running_stats=True)\n",
              "    (2): MaxPool2d(kernel_size=2, stride=1, padding=0, dilation=1, ceil_mode=False)\n",
              "  )\n",
              "  (fc1): Sequential(\n",
              "    (0): Flatten(start_dim=1, end_dim=-1)\n",
              "    (1): Dropout(p=0.5, inplace=False)\n",
              "    (2): Linear(in_features=10368, out_features=5000, bias=True)\n",
              "    (3): BatchNorm1d(5000, eps=1e-05, momentum=0.1, affine=True, track_running_stats=True)\n",
              "    (4): ReLU()\n",
              "  )\n",
              "  (fc2): Sequential(\n",
              "    (0): Dropout(p=0.2, inplace=False)\n",
              "    (1): Linear(in_features=5000, out_features=1024, bias=True)\n",
              "    (2): BatchNorm1d(1024, eps=1e-05, momentum=0.1, affine=True, track_running_stats=True)\n",
              "    (3): ReLU()\n",
              "  )\n",
              "  (fc3): Sequential(\n",
              "    (0): Linear(in_features=1024, out_features=102, bias=True)\n",
              "    (1): LogSoftmax(dim=1)\n",
              "  )\n",
              ")"
            ]
          },
          "metadata": {},
          "execution_count": 23
        }
      ],
      "source": [
        "model = VGG16()\n",
        "model.to(deviceFlag)\n",
        "model"
      ]
    },
    {
      "cell_type": "code",
      "execution_count": 24,
      "metadata": {
        "ExecuteTime": {
          "end_time": "2023-05-06T02:42:59.456119100Z",
          "start_time": "2023-05-06T02:42:59.429376100Z"
        },
        "id": "DclH6p0JXaey"
      },
      "outputs": [],
      "source": [
        "# # Freeze pretrained model parameters to avoid backpropogating through them\n",
        "# for parameter in model.parameters():\n",
        "#     parameter.requires_grad = False\n",
        "\n",
        "\n",
        "# from collections import OrderedDict\n",
        "\n",
        "# # Build custom classifier\n",
        "# classifier = nn.Sequential(OrderedDict([('fc1', nn.Linear(25088, 5000)),\n",
        "#                                         ('relu', nn.ReLU()),\n",
        "#                                         ('drop', nn.Dropout(p=0.5)),\n",
        "#                                         ('fc2', nn.Linear(5000, 102)),\n",
        "#                                         ('output', nn.LogSoftmax(dim=1))]))\n",
        "\n",
        "# model.classifier = classifier"
      ]
    },
    {
      "cell_type": "markdown",
      "metadata": {
        "id": "bNuQ_KXFXae0"
      },
      "source": [
        "# Define Loss Function and Optimizer"
      ]
    },
    {
      "cell_type": "code",
      "execution_count": 25,
      "metadata": {
        "ExecuteTime": {
          "end_time": "2023-05-06T02:45:27.688621300Z",
          "start_time": "2023-05-06T02:45:27.668568900Z"
        },
        "id": "kgDNGJAxXae0"
      },
      "outputs": [],
      "source": [
        "# Negative Log Likelihood Loss\n",
        "criterion = nn.NLLLoss()\n",
        "\n",
        "# Cross Entropy Loss\n",
        "# criterion = nn.CrossEntropyLoss()\n",
        "\n",
        "# optimizer 1\n",
        "optimizer = optim.AdamW(model.parameters(), lr = lr, weight_decay = 0.02)\n",
        "\n",
        "# optimizer 2\n",
        "# optimizer = optim.SGD(model.parameters(), lr=lr, momentum = 0.5)\n",
        "\n",
        "# scheduler\n",
        "# scheduler = lr_scheduler.LinearLR(optimizer, start_factor=1.0, end_factor=0.1, total_iters=50)"
      ]
    },
    {
      "cell_type": "code",
      "source": [
        "train_model()"
      ],
      "metadata": {
        "id": "7C7lTL2ajQJm",
        "colab": {
          "base_uri": "https://localhost:8080/",
          "height": 1000
        },
        "outputId": "b5de36e0-95e9-4c82-9db4-21a8a1242622"
      },
      "execution_count": 26,
      "outputs": [
        {
          "output_type": "stream",
          "name": "stdout",
          "text": [
            "Epoch: 1/150..  Training Loss: 4.567...  Validation Loss: 4.703...  Validation Accuracy: 0.010\n",
            "Epoch: 1/150..  Training Loss: 4.342...  Validation Loss: 4.552...  Validation Accuracy: 0.024\n",
            "Epoch: 2/150..  Training Loss: 3.957...  Validation Loss: 3.987...  Validation Accuracy: 0.074\n",
            "Epoch: 2/150..  Training Loss: 3.855...  Validation Loss: 3.679...  Validation Accuracy: 0.136\n",
            "Epoch: 3/150..  Training Loss: 3.672...  Validation Loss: 3.549...  Validation Accuracy: 0.190\n",
            "Epoch: 3/150..  Training Loss: 3.610...  Validation Loss: 3.431...  Validation Accuracy: 0.188\n",
            "Epoch: 4/150..  Training Loss: 3.387...  Validation Loss: 3.384...  Validation Accuracy: 0.197\n",
            "Epoch: 4/150..  Training Loss: 3.455...  Validation Loss: 3.243...  Validation Accuracy: 0.266\n",
            "Epoch: 5/150..  Training Loss: 3.259...  Validation Loss: 3.193...  Validation Accuracy: 0.279\n",
            "Epoch: 5/150..  Training Loss: 3.271...  Validation Loss: 3.147...  Validation Accuracy: 0.256\n",
            "Epoch: 6/150..  Training Loss: 3.084...  Validation Loss: 3.042...  Validation Accuracy: 0.266\n",
            "Epoch: 6/150..  Training Loss: 3.134...  Validation Loss: 2.970...  Validation Accuracy: 0.269\n",
            "Epoch: 7/150..  Training Loss: 2.966...  Validation Loss: 2.950...  Validation Accuracy: 0.304\n",
            "Epoch: 7/150..  Training Loss: 3.101...  Validation Loss: 2.867...  Validation Accuracy: 0.301\n",
            "Epoch: 8/150..  Training Loss: 2.900...  Validation Loss: 2.930...  Validation Accuracy: 0.287\n",
            "Epoch: 8/150..  Training Loss: 2.928...  Validation Loss: 2.776...  Validation Accuracy: 0.338\n",
            "Epoch: 9/150..  Training Loss: 2.756...  Validation Loss: 2.905...  Validation Accuracy: 0.295\n",
            "Epoch: 9/150..  Training Loss: 2.736...  Validation Loss: 2.691...  Validation Accuracy: 0.337\n",
            "Epoch: 10/150..  Training Loss: 2.622...  Validation Loss: 2.810...  Validation Accuracy: 0.325\n",
            "Epoch: 10/150..  Training Loss: 2.683...  Validation Loss: 2.597...  Validation Accuracy: 0.379\n",
            "Epoch: 11/150..  Training Loss: 2.550...  Validation Loss: 2.710...  Validation Accuracy: 0.328\n",
            "Epoch: 11/150..  Training Loss: 2.598...  Validation Loss: 2.630...  Validation Accuracy: 0.347\n",
            "Epoch: 12/150..  Training Loss: 2.434...  Validation Loss: 2.647...  Validation Accuracy: 0.343\n",
            "Epoch: 12/150..  Training Loss: 2.519...  Validation Loss: 2.486...  Validation Accuracy: 0.398\n",
            "Epoch: 13/150..  Training Loss: 2.499...  Validation Loss: 2.468...  Validation Accuracy: 0.395\n",
            "Epoch: 13/150..  Training Loss: 2.475...  Validation Loss: 2.476...  Validation Accuracy: 0.381\n",
            "Epoch: 14/150..  Training Loss: 2.340...  Validation Loss: 2.531...  Validation Accuracy: 0.386\n",
            "Epoch: 14/150..  Training Loss: 2.380...  Validation Loss: 2.529...  Validation Accuracy: 0.388\n",
            "Epoch: 15/150..  Training Loss: 2.308...  Validation Loss: 2.524...  Validation Accuracy: 0.367\n",
            "Epoch: 15/150..  Training Loss: 2.256...  Validation Loss: 2.472...  Validation Accuracy: 0.396\n",
            "Epoch: 16/150..  Training Loss: 2.190...  Validation Loss: 2.434...  Validation Accuracy: 0.387\n",
            "Epoch: 16/150..  Training Loss: 2.198...  Validation Loss: 2.438...  Validation Accuracy: 0.392\n",
            "Epoch: 17/150..  Training Loss: 2.141...  Validation Loss: 2.318...  Validation Accuracy: 0.425\n",
            "Epoch: 17/150..  Training Loss: 2.141...  Validation Loss: 2.483...  Validation Accuracy: 0.393\n",
            "Epoch: 18/150..  Training Loss: 2.011...  Validation Loss: 2.329...  Validation Accuracy: 0.420\n",
            "Epoch: 18/150..  Training Loss: 2.223...  Validation Loss: 2.279...  Validation Accuracy: 0.415\n",
            "Epoch: 19/150..  Training Loss: 2.056...  Validation Loss: 2.311...  Validation Accuracy: 0.431\n",
            "Epoch: 19/150..  Training Loss: 2.038...  Validation Loss: 2.310...  Validation Accuracy: 0.435\n",
            "Epoch: 20/150..  Training Loss: 1.910...  Validation Loss: 2.409...  Validation Accuracy: 0.398\n",
            "Epoch: 20/150..  Training Loss: 2.043...  Validation Loss: 2.334...  Validation Accuracy: 0.410\n",
            "Epoch: 21/150..  Training Loss: 1.908...  Validation Loss: 2.318...  Validation Accuracy: 0.419\n",
            "Epoch: 21/150..  Training Loss: 1.983...  Validation Loss: 2.267...  Validation Accuracy: 0.417\n",
            "Epoch: 22/150..  Training Loss: 1.733...  Validation Loss: 2.274...  Validation Accuracy: 0.432\n",
            "Epoch: 22/150..  Training Loss: 1.943...  Validation Loss: 2.227...  Validation Accuracy: 0.429\n",
            "Epoch: 23/150..  Training Loss: 1.776...  Validation Loss: 2.173...  Validation Accuracy: 0.444\n",
            "Epoch: 23/150..  Training Loss: 1.856...  Validation Loss: 2.286...  Validation Accuracy: 0.423\n",
            "Epoch: 24/150..  Training Loss: 1.756...  Validation Loss: 2.146...  Validation Accuracy: 0.457\n",
            "Epoch: 24/150..  Training Loss: 1.878...  Validation Loss: 2.229...  Validation Accuracy: 0.437\n",
            "Epoch: 25/150..  Training Loss: 1.759...  Validation Loss: 2.274...  Validation Accuracy: 0.433\n",
            "Epoch: 25/150..  Training Loss: 1.804...  Validation Loss: 2.184...  Validation Accuracy: 0.444\n",
            "Epoch: 26/150..  Training Loss: 1.632...  Validation Loss: 2.151...  Validation Accuracy: 0.455\n",
            "Epoch: 26/150..  Training Loss: 1.718...  Validation Loss: 2.045...  Validation Accuracy: 0.473\n",
            "Epoch: 27/150..  Training Loss: 1.660...  Validation Loss: 2.116...  Validation Accuracy: 0.456\n",
            "Epoch: 27/150..  Training Loss: 1.735...  Validation Loss: 2.080...  Validation Accuracy: 0.483\n",
            "Epoch: 28/150..  Training Loss: 1.594...  Validation Loss: 2.148...  Validation Accuracy: 0.457\n",
            "Epoch: 28/150..  Training Loss: 1.669...  Validation Loss: 2.071...  Validation Accuracy: 0.480\n",
            "Epoch: 29/150..  Training Loss: 1.529...  Validation Loss: 2.055...  Validation Accuracy: 0.478\n",
            "Epoch: 29/150..  Training Loss: 1.548...  Validation Loss: 2.142...  Validation Accuracy: 0.478\n",
            "Epoch: 30/150..  Training Loss: 1.448...  Validation Loss: 2.076...  Validation Accuracy: 0.466\n",
            "Epoch: 30/150..  Training Loss: 1.476...  Validation Loss: 2.038...  Validation Accuracy: 0.496\n",
            "Epoch: 31/150..  Training Loss: 1.500...  Validation Loss: 2.069...  Validation Accuracy: 0.465\n",
            "Epoch: 31/150..  Training Loss: 1.536...  Validation Loss: 2.076...  Validation Accuracy: 0.474\n",
            "Epoch: 32/150..  Training Loss: 1.388...  Validation Loss: 2.089...  Validation Accuracy: 0.487\n",
            "Epoch: 32/150..  Training Loss: 1.562...  Validation Loss: 2.081...  Validation Accuracy: 0.480\n",
            "Epoch: 33/150..  Training Loss: 1.414...  Validation Loss: 2.075...  Validation Accuracy: 0.478\n",
            "Epoch: 33/150..  Training Loss: 1.448...  Validation Loss: 2.027...  Validation Accuracy: 0.495\n",
            "Epoch: 34/150..  Training Loss: 1.411...  Validation Loss: 1.945...  Validation Accuracy: 0.518\n",
            "Epoch: 34/150..  Training Loss: 1.310...  Validation Loss: 2.051...  Validation Accuracy: 0.479\n",
            "Epoch: 35/150..  Training Loss: 1.275...  Validation Loss: 1.953...  Validation Accuracy: 0.496\n",
            "Epoch: 35/150..  Training Loss: 1.430...  Validation Loss: 1.992...  Validation Accuracy: 0.486\n",
            "Epoch: 36/150..  Training Loss: 1.330...  Validation Loss: 1.916...  Validation Accuracy: 0.502\n",
            "Epoch: 36/150..  Training Loss: 1.483...  Validation Loss: 2.021...  Validation Accuracy: 0.478\n",
            "Epoch: 37/150..  Training Loss: 1.372...  Validation Loss: 1.953...  Validation Accuracy: 0.509\n",
            "Epoch: 37/150..  Training Loss: 1.408...  Validation Loss: 1.963...  Validation Accuracy: 0.498\n",
            "Epoch: 38/150..  Training Loss: 1.299...  Validation Loss: 2.032...  Validation Accuracy: 0.501\n",
            "Epoch: 38/150..  Training Loss: 1.326...  Validation Loss: 1.929...  Validation Accuracy: 0.502\n",
            "Epoch: 39/150..  Training Loss: 1.201...  Validation Loss: 2.057...  Validation Accuracy: 0.484\n",
            "Epoch: 39/150..  Training Loss: 1.245...  Validation Loss: 1.963...  Validation Accuracy: 0.496\n",
            "Epoch: 40/150..  Training Loss: 1.122...  Validation Loss: 2.034...  Validation Accuracy: 0.482\n",
            "Epoch: 40/150..  Training Loss: 1.390...  Validation Loss: 1.917...  Validation Accuracy: 0.520\n",
            "Epoch: 41/150..  Training Loss: 1.087...  Validation Loss: 1.919...  Validation Accuracy: 0.516\n",
            "Epoch: 41/150..  Training Loss: 1.206...  Validation Loss: 1.954...  Validation Accuracy: 0.518\n",
            "Epoch: 42/150..  Training Loss: 1.087...  Validation Loss: 1.921...  Validation Accuracy: 0.503\n",
            "Epoch: 42/150..  Training Loss: 1.276...  Validation Loss: 2.045...  Validation Accuracy: 0.499\n",
            "Epoch: 43/150..  Training Loss: 1.127...  Validation Loss: 1.955...  Validation Accuracy: 0.505\n",
            "Epoch: 43/150..  Training Loss: 1.087...  Validation Loss: 1.910...  Validation Accuracy: 0.522\n",
            "Epoch: 44/150..  Training Loss: 1.119...  Validation Loss: 1.986...  Validation Accuracy: 0.505\n",
            "Epoch: 44/150..  Training Loss: 1.167...  Validation Loss: 1.958...  Validation Accuracy: 0.497\n",
            "Epoch: 45/150..  Training Loss: 1.028...  Validation Loss: 1.936...  Validation Accuracy: 0.512\n",
            "Epoch: 45/150..  Training Loss: 1.133...  Validation Loss: 1.988...  Validation Accuracy: 0.500\n",
            "Epoch: 46/150..  Training Loss: 1.104...  Validation Loss: 1.944...  Validation Accuracy: 0.508\n",
            "Epoch: 46/150..  Training Loss: 1.132...  Validation Loss: 1.964...  Validation Accuracy: 0.511\n",
            "Epoch: 47/150..  Training Loss: 1.049...  Validation Loss: 1.924...  Validation Accuracy: 0.525\n",
            "Epoch: 47/150..  Training Loss: 1.017...  Validation Loss: 2.000...  Validation Accuracy: 0.492\n",
            "Epoch: 48/150..  Training Loss: 1.039...  Validation Loss: 1.976...  Validation Accuracy: 0.501\n",
            "Epoch: 48/150..  Training Loss: 1.099...  Validation Loss: 1.935...  Validation Accuracy: 0.516\n",
            "Epoch: 49/150..  Training Loss: 0.993...  Validation Loss: 1.939...  Validation Accuracy: 0.520\n",
            "Epoch: 49/150..  Training Loss: 1.020...  Validation Loss: 1.958...  Validation Accuracy: 0.518\n",
            "Epoch: 50/150..  Training Loss: 0.937...  Validation Loss: 1.956...  Validation Accuracy: 0.505\n",
            "Epoch: 50/150..  Training Loss: 1.093...  Validation Loss: 1.907...  Validation Accuracy: 0.536\n",
            "Epoch: 51/150..  Training Loss: 1.022...  Validation Loss: 1.916...  Validation Accuracy: 0.539\n",
            "Epoch: 51/150..  Training Loss: 1.112...  Validation Loss: 2.025...  Validation Accuracy: 0.500\n",
            "Epoch: 52/150..  Training Loss: 0.958...  Validation Loss: 1.965...  Validation Accuracy: 0.509\n",
            "Epoch: 52/150..  Training Loss: 1.008...  Validation Loss: 1.983...  Validation Accuracy: 0.522\n",
            "Epoch: 53/150..  Training Loss: 1.075...  Validation Loss: 2.013...  Validation Accuracy: 0.507\n",
            "Epoch: 53/150..  Training Loss: 1.053...  Validation Loss: 1.960...  Validation Accuracy: 0.503\n",
            "Epoch: 54/150..  Training Loss: 1.000...  Validation Loss: 1.882...  Validation Accuracy: 0.547\n",
            "Epoch: 54/150..  Training Loss: 0.926...  Validation Loss: 1.913...  Validation Accuracy: 0.535\n",
            "Epoch: 55/150..  Training Loss: 1.048...  Validation Loss: 1.984...  Validation Accuracy: 0.516\n",
            "Epoch: 55/150..  Training Loss: 0.981...  Validation Loss: 1.967...  Validation Accuracy: 0.517\n",
            "Epoch: 56/150..  Training Loss: 0.944...  Validation Loss: 1.983...  Validation Accuracy: 0.514\n",
            "Epoch: 56/150..  Training Loss: 0.965...  Validation Loss: 2.028...  Validation Accuracy: 0.499\n",
            "Epoch: 57/150..  Training Loss: 0.831...  Validation Loss: 1.848...  Validation Accuracy: 0.535\n",
            "Epoch: 57/150..  Training Loss: 0.960...  Validation Loss: 1.963...  Validation Accuracy: 0.524\n",
            "Epoch: 58/150..  Training Loss: 0.957...  Validation Loss: 1.993...  Validation Accuracy: 0.500\n",
            "Epoch: 58/150..  Training Loss: 0.918...  Validation Loss: 1.950...  Validation Accuracy: 0.526\n",
            "Epoch: 59/150..  Training Loss: 0.822...  Validation Loss: 1.975...  Validation Accuracy: 0.516\n",
            "Epoch: 59/150..  Training Loss: 0.957...  Validation Loss: 1.840...  Validation Accuracy: 0.531\n",
            "Epoch: 60/150..  Training Loss: 0.832...  Validation Loss: 1.971...  Validation Accuracy: 0.508\n",
            "Epoch: 60/150..  Training Loss: 0.916...  Validation Loss: 1.945...  Validation Accuracy: 0.507\n",
            "Epoch: 61/150..  Training Loss: 0.714...  Validation Loss: 1.911...  Validation Accuracy: 0.528\n",
            "Epoch: 61/150..  Training Loss: 0.887...  Validation Loss: 1.897...  Validation Accuracy: 0.527\n",
            "Epoch: 62/150..  Training Loss: 0.786...  Validation Loss: 1.885...  Validation Accuracy: 0.535\n",
            "Epoch: 62/150..  Training Loss: 0.886...  Validation Loss: 1.857...  Validation Accuracy: 0.551\n",
            "Epoch: 63/150..  Training Loss: 0.804...  Validation Loss: 1.887...  Validation Accuracy: 0.535\n",
            "Epoch: 63/150..  Training Loss: 0.862...  Validation Loss: 1.957...  Validation Accuracy: 0.520\n",
            "Epoch: 64/150..  Training Loss: 0.823...  Validation Loss: 1.962...  Validation Accuracy: 0.524\n",
            "Epoch: 64/150..  Training Loss: 0.862...  Validation Loss: 2.030...  Validation Accuracy: 0.485\n",
            "Epoch: 65/150..  Training Loss: 0.843...  Validation Loss: 1.905...  Validation Accuracy: 0.538\n",
            "Epoch: 65/150..  Training Loss: 0.830...  Validation Loss: 2.134...  Validation Accuracy: 0.481\n",
            "Epoch: 66/150..  Training Loss: 0.790...  Validation Loss: 2.036...  Validation Accuracy: 0.509\n",
            "Epoch: 66/150..  Training Loss: 0.753...  Validation Loss: 1.953...  Validation Accuracy: 0.526\n",
            "Epoch: 67/150..  Training Loss: 0.757...  Validation Loss: 1.916...  Validation Accuracy: 0.529\n",
            "Epoch: 67/150..  Training Loss: 0.770...  Validation Loss: 1.941...  Validation Accuracy: 0.536\n",
            "Epoch: 68/150..  Training Loss: 0.676...  Validation Loss: 1.868...  Validation Accuracy: 0.544\n",
            "Epoch: 68/150..  Training Loss: 0.769...  Validation Loss: 2.003...  Validation Accuracy: 0.535\n",
            "Epoch: 69/150..  Training Loss: 0.735...  Validation Loss: 1.957...  Validation Accuracy: 0.525\n",
            "Epoch: 69/150..  Training Loss: 0.725...  Validation Loss: 1.933...  Validation Accuracy: 0.525\n",
            "Epoch: 70/150..  Training Loss: 0.735...  Validation Loss: 2.026...  Validation Accuracy: 0.521\n",
            "Epoch: 70/150..  Training Loss: 0.805...  Validation Loss: 1.920...  Validation Accuracy: 0.531\n",
            "Epoch: 71/150..  Training Loss: 0.728...  Validation Loss: 1.979...  Validation Accuracy: 0.518\n",
            "Epoch: 71/150..  Training Loss: 0.708...  Validation Loss: 2.015...  Validation Accuracy: 0.535\n",
            "Epoch: 72/150..  Training Loss: 0.688...  Validation Loss: 1.885...  Validation Accuracy: 0.547\n",
            "Epoch: 72/150..  Training Loss: 0.753...  Validation Loss: 1.991...  Validation Accuracy: 0.529\n",
            "Epoch: 73/150..  Training Loss: 0.713...  Validation Loss: 1.886...  Validation Accuracy: 0.549\n",
            "Epoch: 73/150..  Training Loss: 0.824...  Validation Loss: 2.019...  Validation Accuracy: 0.511\n",
            "Epoch: 74/150..  Training Loss: 0.691...  Validation Loss: 1.986...  Validation Accuracy: 0.535\n",
            "Epoch: 74/150..  Training Loss: 0.747...  Validation Loss: 1.934...  Validation Accuracy: 0.530\n",
            "Epoch: 75/150..  Training Loss: 0.650...  Validation Loss: 1.882...  Validation Accuracy: 0.553\n",
            "Epoch: 75/150..  Training Loss: 0.675...  Validation Loss: 1.875...  Validation Accuracy: 0.562\n",
            "Epoch: 76/150..  Training Loss: 0.758...  Validation Loss: 1.955...  Validation Accuracy: 0.526\n",
            "Epoch: 76/150..  Training Loss: 0.718...  Validation Loss: 1.837...  Validation Accuracy: 0.550\n",
            "Epoch: 77/150..  Training Loss: 0.700...  Validation Loss: 1.974...  Validation Accuracy: 0.536\n",
            "Epoch: 77/150..  Training Loss: 0.699...  Validation Loss: 1.896...  Validation Accuracy: 0.544\n",
            "Epoch: 78/150..  Training Loss: 0.707...  Validation Loss: 1.923...  Validation Accuracy: 0.529\n",
            "Epoch: 78/150..  Training Loss: 0.716...  Validation Loss: 2.004...  Validation Accuracy: 0.528\n",
            "Epoch: 79/150..  Training Loss: 0.687...  Validation Loss: 1.957...  Validation Accuracy: 0.528\n",
            "Epoch: 79/150..  Training Loss: 0.762...  Validation Loss: 1.922...  Validation Accuracy: 0.533\n",
            "Epoch: 80/150..  Training Loss: 0.678...  Validation Loss: 1.941...  Validation Accuracy: 0.542\n",
            "Epoch: 80/150..  Training Loss: 0.573...  Validation Loss: 1.897...  Validation Accuracy: 0.541\n",
            "Epoch: 81/150..  Training Loss: 0.572...  Validation Loss: 1.886...  Validation Accuracy: 0.549\n",
            "Epoch: 81/150..  Training Loss: 0.668...  Validation Loss: 1.974...  Validation Accuracy: 0.537\n",
            "Epoch: 82/150..  Training Loss: 0.603...  Validation Loss: 1.963...  Validation Accuracy: 0.536\n",
            "Epoch: 82/150..  Training Loss: 0.669...  Validation Loss: 1.884...  Validation Accuracy: 0.543\n",
            "Epoch: 83/150..  Training Loss: 0.615...  Validation Loss: 1.932...  Validation Accuracy: 0.540\n",
            "Epoch: 83/150..  Training Loss: 0.702...  Validation Loss: 1.946...  Validation Accuracy: 0.544\n",
            "Epoch: 84/150..  Training Loss: 0.644...  Validation Loss: 2.037...  Validation Accuracy: 0.498\n",
            "Epoch: 84/150..  Training Loss: 0.731...  Validation Loss: 2.011...  Validation Accuracy: 0.525\n",
            "Epoch: 85/150..  Training Loss: 0.615...  Validation Loss: 2.007...  Validation Accuracy: 0.532\n"
          ]
        },
        {
          "output_type": "error",
          "ename": "KeyboardInterrupt",
          "evalue": "ignored",
          "traceback": [
            "\u001b[0;31m---------------------------------------------------------------------------\u001b[0m",
            "\u001b[0;31mKeyboardInterrupt\u001b[0m                         Traceback (most recent call last)",
            "\u001b[0;32m<ipython-input-26-4dc2ba0c028a>\u001b[0m in \u001b[0;36m<cell line: 1>\u001b[0;34m()\u001b[0m\n\u001b[0;32m----> 1\u001b[0;31m \u001b[0mtrain_model\u001b[0m\u001b[0;34m(\u001b[0m\u001b[0;34m)\u001b[0m\u001b[0;34m\u001b[0m\u001b[0;34m\u001b[0m\u001b[0m\n\u001b[0m",
            "\u001b[0;32m<ipython-input-18-833bcc3e25db>\u001b[0m in \u001b[0;36mtrain_model\u001b[0;34m()\u001b[0m\n\u001b[1;32m     10\u001b[0m           \u001b[0mrunning_loss\u001b[0m \u001b[0;34m=\u001b[0m \u001b[0;36m0\u001b[0m\u001b[0;34m\u001b[0m\u001b[0;34m\u001b[0m\u001b[0m\n\u001b[1;32m     11\u001b[0m \u001b[0;34m\u001b[0m\u001b[0m\n\u001b[0;32m---> 12\u001b[0;31m           \u001b[0;32mfor\u001b[0m \u001b[0mimages\u001b[0m\u001b[0;34m,\u001b[0m \u001b[0mlabels\u001b[0m \u001b[0;32min\u001b[0m \u001b[0miter\u001b[0m\u001b[0;34m(\u001b[0m\u001b[0mtrain_loader\u001b[0m\u001b[0;34m)\u001b[0m\u001b[0;34m:\u001b[0m\u001b[0;34m\u001b[0m\u001b[0;34m\u001b[0m\u001b[0m\n\u001b[0m\u001b[1;32m     13\u001b[0m \u001b[0;34m\u001b[0m\u001b[0m\n\u001b[1;32m     14\u001b[0m               \u001b[0msteps\u001b[0m \u001b[0;34m+=\u001b[0m \u001b[0;36m1\u001b[0m\u001b[0;34m\u001b[0m\u001b[0;34m\u001b[0m\u001b[0m\n",
            "\u001b[0;32m/usr/local/lib/python3.10/dist-packages/torch/utils/data/dataloader.py\u001b[0m in \u001b[0;36m__next__\u001b[0;34m(self)\u001b[0m\n\u001b[1;32m    632\u001b[0m                 \u001b[0;31m# TODO(https://github.com/pytorch/pytorch/issues/76750)\u001b[0m\u001b[0;34m\u001b[0m\u001b[0;34m\u001b[0m\u001b[0m\n\u001b[1;32m    633\u001b[0m                 \u001b[0mself\u001b[0m\u001b[0;34m.\u001b[0m\u001b[0m_reset\u001b[0m\u001b[0;34m(\u001b[0m\u001b[0;34m)\u001b[0m  \u001b[0;31m# type: ignore[call-arg]\u001b[0m\u001b[0;34m\u001b[0m\u001b[0;34m\u001b[0m\u001b[0m\n\u001b[0;32m--> 634\u001b[0;31m             \u001b[0mdata\u001b[0m \u001b[0;34m=\u001b[0m \u001b[0mself\u001b[0m\u001b[0;34m.\u001b[0m\u001b[0m_next_data\u001b[0m\u001b[0;34m(\u001b[0m\u001b[0;34m)\u001b[0m\u001b[0;34m\u001b[0m\u001b[0;34m\u001b[0m\u001b[0m\n\u001b[0m\u001b[1;32m    635\u001b[0m             \u001b[0mself\u001b[0m\u001b[0;34m.\u001b[0m\u001b[0m_num_yielded\u001b[0m \u001b[0;34m+=\u001b[0m \u001b[0;36m1\u001b[0m\u001b[0;34m\u001b[0m\u001b[0;34m\u001b[0m\u001b[0m\n\u001b[1;32m    636\u001b[0m             \u001b[0;32mif\u001b[0m \u001b[0mself\u001b[0m\u001b[0;34m.\u001b[0m\u001b[0m_dataset_kind\u001b[0m \u001b[0;34m==\u001b[0m \u001b[0m_DatasetKind\u001b[0m\u001b[0;34m.\u001b[0m\u001b[0mIterable\u001b[0m \u001b[0;32mand\u001b[0m\u001b[0;31m \u001b[0m\u001b[0;31m\\\u001b[0m\u001b[0;34m\u001b[0m\u001b[0;34m\u001b[0m\u001b[0m\n",
            "\u001b[0;32m/usr/local/lib/python3.10/dist-packages/torch/utils/data/dataloader.py\u001b[0m in \u001b[0;36m_next_data\u001b[0;34m(self)\u001b[0m\n\u001b[1;32m    676\u001b[0m     \u001b[0;32mdef\u001b[0m \u001b[0m_next_data\u001b[0m\u001b[0;34m(\u001b[0m\u001b[0mself\u001b[0m\u001b[0;34m)\u001b[0m\u001b[0;34m:\u001b[0m\u001b[0;34m\u001b[0m\u001b[0;34m\u001b[0m\u001b[0m\n\u001b[1;32m    677\u001b[0m         \u001b[0mindex\u001b[0m \u001b[0;34m=\u001b[0m \u001b[0mself\u001b[0m\u001b[0;34m.\u001b[0m\u001b[0m_next_index\u001b[0m\u001b[0;34m(\u001b[0m\u001b[0;34m)\u001b[0m  \u001b[0;31m# may raise StopIteration\u001b[0m\u001b[0;34m\u001b[0m\u001b[0;34m\u001b[0m\u001b[0m\n\u001b[0;32m--> 678\u001b[0;31m         \u001b[0mdata\u001b[0m \u001b[0;34m=\u001b[0m \u001b[0mself\u001b[0m\u001b[0;34m.\u001b[0m\u001b[0m_dataset_fetcher\u001b[0m\u001b[0;34m.\u001b[0m\u001b[0mfetch\u001b[0m\u001b[0;34m(\u001b[0m\u001b[0mindex\u001b[0m\u001b[0;34m)\u001b[0m  \u001b[0;31m# may raise StopIteration\u001b[0m\u001b[0;34m\u001b[0m\u001b[0;34m\u001b[0m\u001b[0m\n\u001b[0m\u001b[1;32m    679\u001b[0m         \u001b[0;32mif\u001b[0m \u001b[0mself\u001b[0m\u001b[0;34m.\u001b[0m\u001b[0m_pin_memory\u001b[0m\u001b[0;34m:\u001b[0m\u001b[0;34m\u001b[0m\u001b[0;34m\u001b[0m\u001b[0m\n\u001b[1;32m    680\u001b[0m             \u001b[0mdata\u001b[0m \u001b[0;34m=\u001b[0m \u001b[0m_utils\u001b[0m\u001b[0;34m.\u001b[0m\u001b[0mpin_memory\u001b[0m\u001b[0;34m.\u001b[0m\u001b[0mpin_memory\u001b[0m\u001b[0;34m(\u001b[0m\u001b[0mdata\u001b[0m\u001b[0;34m,\u001b[0m \u001b[0mself\u001b[0m\u001b[0;34m.\u001b[0m\u001b[0m_pin_memory_device\u001b[0m\u001b[0;34m)\u001b[0m\u001b[0;34m\u001b[0m\u001b[0;34m\u001b[0m\u001b[0m\n",
            "\u001b[0;32m/usr/local/lib/python3.10/dist-packages/torch/utils/data/_utils/fetch.py\u001b[0m in \u001b[0;36mfetch\u001b[0;34m(self, possibly_batched_index)\u001b[0m\n\u001b[1;32m     49\u001b[0m                 \u001b[0mdata\u001b[0m \u001b[0;34m=\u001b[0m \u001b[0mself\u001b[0m\u001b[0;34m.\u001b[0m\u001b[0mdataset\u001b[0m\u001b[0;34m.\u001b[0m\u001b[0m__getitems__\u001b[0m\u001b[0;34m(\u001b[0m\u001b[0mpossibly_batched_index\u001b[0m\u001b[0;34m)\u001b[0m\u001b[0;34m\u001b[0m\u001b[0;34m\u001b[0m\u001b[0m\n\u001b[1;32m     50\u001b[0m             \u001b[0;32melse\u001b[0m\u001b[0;34m:\u001b[0m\u001b[0;34m\u001b[0m\u001b[0;34m\u001b[0m\u001b[0m\n\u001b[0;32m---> 51\u001b[0;31m                 \u001b[0mdata\u001b[0m \u001b[0;34m=\u001b[0m \u001b[0;34m[\u001b[0m\u001b[0mself\u001b[0m\u001b[0;34m.\u001b[0m\u001b[0mdataset\u001b[0m\u001b[0;34m[\u001b[0m\u001b[0midx\u001b[0m\u001b[0;34m]\u001b[0m \u001b[0;32mfor\u001b[0m \u001b[0midx\u001b[0m \u001b[0;32min\u001b[0m \u001b[0mpossibly_batched_index\u001b[0m\u001b[0;34m]\u001b[0m\u001b[0;34m\u001b[0m\u001b[0;34m\u001b[0m\u001b[0m\n\u001b[0m\u001b[1;32m     52\u001b[0m         \u001b[0;32melse\u001b[0m\u001b[0;34m:\u001b[0m\u001b[0;34m\u001b[0m\u001b[0;34m\u001b[0m\u001b[0m\n\u001b[1;32m     53\u001b[0m             \u001b[0mdata\u001b[0m \u001b[0;34m=\u001b[0m \u001b[0mself\u001b[0m\u001b[0;34m.\u001b[0m\u001b[0mdataset\u001b[0m\u001b[0;34m[\u001b[0m\u001b[0mpossibly_batched_index\u001b[0m\u001b[0;34m]\u001b[0m\u001b[0;34m\u001b[0m\u001b[0;34m\u001b[0m\u001b[0m\n",
            "\u001b[0;32m/usr/local/lib/python3.10/dist-packages/torch/utils/data/_utils/fetch.py\u001b[0m in \u001b[0;36m<listcomp>\u001b[0;34m(.0)\u001b[0m\n\u001b[1;32m     49\u001b[0m                 \u001b[0mdata\u001b[0m \u001b[0;34m=\u001b[0m \u001b[0mself\u001b[0m\u001b[0;34m.\u001b[0m\u001b[0mdataset\u001b[0m\u001b[0;34m.\u001b[0m\u001b[0m__getitems__\u001b[0m\u001b[0;34m(\u001b[0m\u001b[0mpossibly_batched_index\u001b[0m\u001b[0;34m)\u001b[0m\u001b[0;34m\u001b[0m\u001b[0;34m\u001b[0m\u001b[0m\n\u001b[1;32m     50\u001b[0m             \u001b[0;32melse\u001b[0m\u001b[0;34m:\u001b[0m\u001b[0;34m\u001b[0m\u001b[0;34m\u001b[0m\u001b[0m\n\u001b[0;32m---> 51\u001b[0;31m                 \u001b[0mdata\u001b[0m \u001b[0;34m=\u001b[0m \u001b[0;34m[\u001b[0m\u001b[0mself\u001b[0m\u001b[0;34m.\u001b[0m\u001b[0mdataset\u001b[0m\u001b[0;34m[\u001b[0m\u001b[0midx\u001b[0m\u001b[0;34m]\u001b[0m \u001b[0;32mfor\u001b[0m \u001b[0midx\u001b[0m \u001b[0;32min\u001b[0m \u001b[0mpossibly_batched_index\u001b[0m\u001b[0;34m]\u001b[0m\u001b[0;34m\u001b[0m\u001b[0;34m\u001b[0m\u001b[0m\n\u001b[0m\u001b[1;32m     52\u001b[0m         \u001b[0;32melse\u001b[0m\u001b[0;34m:\u001b[0m\u001b[0;34m\u001b[0m\u001b[0;34m\u001b[0m\u001b[0m\n\u001b[1;32m     53\u001b[0m             \u001b[0mdata\u001b[0m \u001b[0;34m=\u001b[0m \u001b[0mself\u001b[0m\u001b[0;34m.\u001b[0m\u001b[0mdataset\u001b[0m\u001b[0;34m[\u001b[0m\u001b[0mpossibly_batched_index\u001b[0m\u001b[0;34m]\u001b[0m\u001b[0;34m\u001b[0m\u001b[0;34m\u001b[0m\u001b[0m\n",
            "\u001b[0;32m/usr/local/lib/python3.10/dist-packages/torchvision/datasets/flowers102.py\u001b[0m in \u001b[0;36m__getitem__\u001b[0;34m(self, idx)\u001b[0m\n\u001b[1;32m     82\u001b[0m \u001b[0;34m\u001b[0m\u001b[0m\n\u001b[1;32m     83\u001b[0m         \u001b[0;32mif\u001b[0m \u001b[0mself\u001b[0m\u001b[0;34m.\u001b[0m\u001b[0mtransform\u001b[0m\u001b[0;34m:\u001b[0m\u001b[0;34m\u001b[0m\u001b[0;34m\u001b[0m\u001b[0m\n\u001b[0;32m---> 84\u001b[0;31m             \u001b[0mimage\u001b[0m \u001b[0;34m=\u001b[0m \u001b[0mself\u001b[0m\u001b[0;34m.\u001b[0m\u001b[0mtransform\u001b[0m\u001b[0;34m(\u001b[0m\u001b[0mimage\u001b[0m\u001b[0;34m)\u001b[0m\u001b[0;34m\u001b[0m\u001b[0;34m\u001b[0m\u001b[0m\n\u001b[0m\u001b[1;32m     85\u001b[0m \u001b[0;34m\u001b[0m\u001b[0m\n\u001b[1;32m     86\u001b[0m         \u001b[0;32mif\u001b[0m \u001b[0mself\u001b[0m\u001b[0;34m.\u001b[0m\u001b[0mtarget_transform\u001b[0m\u001b[0;34m:\u001b[0m\u001b[0;34m\u001b[0m\u001b[0;34m\u001b[0m\u001b[0m\n",
            "\u001b[0;32m/usr/local/lib/python3.10/dist-packages/torchvision/transforms/transforms.py\u001b[0m in \u001b[0;36m__call__\u001b[0;34m(self, img)\u001b[0m\n\u001b[1;32m     93\u001b[0m     \u001b[0;32mdef\u001b[0m \u001b[0m__call__\u001b[0m\u001b[0;34m(\u001b[0m\u001b[0mself\u001b[0m\u001b[0;34m,\u001b[0m \u001b[0mimg\u001b[0m\u001b[0;34m)\u001b[0m\u001b[0;34m:\u001b[0m\u001b[0;34m\u001b[0m\u001b[0;34m\u001b[0m\u001b[0m\n\u001b[1;32m     94\u001b[0m         \u001b[0;32mfor\u001b[0m \u001b[0mt\u001b[0m \u001b[0;32min\u001b[0m \u001b[0mself\u001b[0m\u001b[0;34m.\u001b[0m\u001b[0mtransforms\u001b[0m\u001b[0;34m:\u001b[0m\u001b[0;34m\u001b[0m\u001b[0;34m\u001b[0m\u001b[0m\n\u001b[0;32m---> 95\u001b[0;31m             \u001b[0mimg\u001b[0m \u001b[0;34m=\u001b[0m \u001b[0mt\u001b[0m\u001b[0;34m(\u001b[0m\u001b[0mimg\u001b[0m\u001b[0;34m)\u001b[0m\u001b[0;34m\u001b[0m\u001b[0;34m\u001b[0m\u001b[0m\n\u001b[0m\u001b[1;32m     96\u001b[0m         \u001b[0;32mreturn\u001b[0m \u001b[0mimg\u001b[0m\u001b[0;34m\u001b[0m\u001b[0;34m\u001b[0m\u001b[0m\n\u001b[1;32m     97\u001b[0m \u001b[0;34m\u001b[0m\u001b[0m\n",
            "\u001b[0;32m/usr/local/lib/python3.10/dist-packages/torch/nn/modules/module.py\u001b[0m in \u001b[0;36m_call_impl\u001b[0;34m(self, *args, **kwargs)\u001b[0m\n\u001b[1;32m   1499\u001b[0m                 \u001b[0;32mor\u001b[0m \u001b[0m_global_backward_pre_hooks\u001b[0m \u001b[0;32mor\u001b[0m \u001b[0m_global_backward_hooks\u001b[0m\u001b[0;34m\u001b[0m\u001b[0;34m\u001b[0m\u001b[0m\n\u001b[1;32m   1500\u001b[0m                 or _global_forward_hooks or _global_forward_pre_hooks):\n\u001b[0;32m-> 1501\u001b[0;31m             \u001b[0;32mreturn\u001b[0m \u001b[0mforward_call\u001b[0m\u001b[0;34m(\u001b[0m\u001b[0;34m*\u001b[0m\u001b[0margs\u001b[0m\u001b[0;34m,\u001b[0m \u001b[0;34m**\u001b[0m\u001b[0mkwargs\u001b[0m\u001b[0;34m)\u001b[0m\u001b[0;34m\u001b[0m\u001b[0;34m\u001b[0m\u001b[0m\n\u001b[0m\u001b[1;32m   1502\u001b[0m         \u001b[0;31m# Do not call functions when jit is used\u001b[0m\u001b[0;34m\u001b[0m\u001b[0;34m\u001b[0m\u001b[0m\n\u001b[1;32m   1503\u001b[0m         \u001b[0mfull_backward_hooks\u001b[0m\u001b[0;34m,\u001b[0m \u001b[0mnon_full_backward_hooks\u001b[0m \u001b[0;34m=\u001b[0m \u001b[0;34m[\u001b[0m\u001b[0;34m]\u001b[0m\u001b[0;34m,\u001b[0m \u001b[0;34m[\u001b[0m\u001b[0;34m]\u001b[0m\u001b[0;34m\u001b[0m\u001b[0;34m\u001b[0m\u001b[0m\n",
            "\u001b[0;32m/usr/local/lib/python3.10/dist-packages/torchvision/transforms/transforms.py\u001b[0m in \u001b[0;36mforward\u001b[0;34m(self, img)\u001b[0m\n\u001b[1;32m    978\u001b[0m         \"\"\"\n\u001b[1;32m    979\u001b[0m         \u001b[0mi\u001b[0m\u001b[0;34m,\u001b[0m \u001b[0mj\u001b[0m\u001b[0;34m,\u001b[0m \u001b[0mh\u001b[0m\u001b[0;34m,\u001b[0m \u001b[0mw\u001b[0m \u001b[0;34m=\u001b[0m \u001b[0mself\u001b[0m\u001b[0;34m.\u001b[0m\u001b[0mget_params\u001b[0m\u001b[0;34m(\u001b[0m\u001b[0mimg\u001b[0m\u001b[0;34m,\u001b[0m \u001b[0mself\u001b[0m\u001b[0;34m.\u001b[0m\u001b[0mscale\u001b[0m\u001b[0;34m,\u001b[0m \u001b[0mself\u001b[0m\u001b[0;34m.\u001b[0m\u001b[0mratio\u001b[0m\u001b[0;34m)\u001b[0m\u001b[0;34m\u001b[0m\u001b[0;34m\u001b[0m\u001b[0m\n\u001b[0;32m--> 980\u001b[0;31m         \u001b[0;32mreturn\u001b[0m \u001b[0mF\u001b[0m\u001b[0;34m.\u001b[0m\u001b[0mresized_crop\u001b[0m\u001b[0;34m(\u001b[0m\u001b[0mimg\u001b[0m\u001b[0;34m,\u001b[0m \u001b[0mi\u001b[0m\u001b[0;34m,\u001b[0m \u001b[0mj\u001b[0m\u001b[0;34m,\u001b[0m \u001b[0mh\u001b[0m\u001b[0;34m,\u001b[0m \u001b[0mw\u001b[0m\u001b[0;34m,\u001b[0m \u001b[0mself\u001b[0m\u001b[0;34m.\u001b[0m\u001b[0msize\u001b[0m\u001b[0;34m,\u001b[0m \u001b[0mself\u001b[0m\u001b[0;34m.\u001b[0m\u001b[0minterpolation\u001b[0m\u001b[0;34m,\u001b[0m \u001b[0mantialias\u001b[0m\u001b[0;34m=\u001b[0m\u001b[0mself\u001b[0m\u001b[0;34m.\u001b[0m\u001b[0mantialias\u001b[0m\u001b[0;34m)\u001b[0m\u001b[0;34m\u001b[0m\u001b[0;34m\u001b[0m\u001b[0m\n\u001b[0m\u001b[1;32m    981\u001b[0m \u001b[0;34m\u001b[0m\u001b[0m\n\u001b[1;32m    982\u001b[0m     \u001b[0;32mdef\u001b[0m \u001b[0m__repr__\u001b[0m\u001b[0;34m(\u001b[0m\u001b[0mself\u001b[0m\u001b[0;34m)\u001b[0m \u001b[0;34m->\u001b[0m \u001b[0mstr\u001b[0m\u001b[0;34m:\u001b[0m\u001b[0;34m\u001b[0m\u001b[0;34m\u001b[0m\u001b[0m\n",
            "\u001b[0;32m/usr/local/lib/python3.10/dist-packages/torchvision/transforms/functional.py\u001b[0m in \u001b[0;36mresized_crop\u001b[0;34m(img, top, left, height, width, size, interpolation, antialias)\u001b[0m\n\u001b[1;32m    661\u001b[0m         \u001b[0m_log_api_usage_once\u001b[0m\u001b[0;34m(\u001b[0m\u001b[0mresized_crop\u001b[0m\u001b[0;34m)\u001b[0m\u001b[0;34m\u001b[0m\u001b[0;34m\u001b[0m\u001b[0m\n\u001b[1;32m    662\u001b[0m     \u001b[0mimg\u001b[0m \u001b[0;34m=\u001b[0m \u001b[0mcrop\u001b[0m\u001b[0;34m(\u001b[0m\u001b[0mimg\u001b[0m\u001b[0;34m,\u001b[0m \u001b[0mtop\u001b[0m\u001b[0;34m,\u001b[0m \u001b[0mleft\u001b[0m\u001b[0;34m,\u001b[0m \u001b[0mheight\u001b[0m\u001b[0;34m,\u001b[0m \u001b[0mwidth\u001b[0m\u001b[0;34m)\u001b[0m\u001b[0;34m\u001b[0m\u001b[0;34m\u001b[0m\u001b[0m\n\u001b[0;32m--> 663\u001b[0;31m     \u001b[0mimg\u001b[0m \u001b[0;34m=\u001b[0m \u001b[0mresize\u001b[0m\u001b[0;34m(\u001b[0m\u001b[0mimg\u001b[0m\u001b[0;34m,\u001b[0m \u001b[0msize\u001b[0m\u001b[0;34m,\u001b[0m \u001b[0minterpolation\u001b[0m\u001b[0;34m,\u001b[0m \u001b[0mantialias\u001b[0m\u001b[0;34m=\u001b[0m\u001b[0mantialias\u001b[0m\u001b[0;34m)\u001b[0m\u001b[0;34m\u001b[0m\u001b[0;34m\u001b[0m\u001b[0m\n\u001b[0m\u001b[1;32m    664\u001b[0m     \u001b[0;32mreturn\u001b[0m \u001b[0mimg\u001b[0m\u001b[0;34m\u001b[0m\u001b[0;34m\u001b[0m\u001b[0m\n\u001b[1;32m    665\u001b[0m \u001b[0;34m\u001b[0m\u001b[0m\n",
            "\u001b[0;32m/usr/local/lib/python3.10/dist-packages/torchvision/transforms/functional.py\u001b[0m in \u001b[0;36mresize\u001b[0;34m(img, size, interpolation, max_size, antialias)\u001b[0m\n\u001b[1;32m    488\u001b[0m             \u001b[0mwarnings\u001b[0m\u001b[0;34m.\u001b[0m\u001b[0mwarn\u001b[0m\u001b[0;34m(\u001b[0m\u001b[0;34m\"Anti-alias option is always applied for PIL Image input. Argument antialias is ignored.\"\u001b[0m\u001b[0;34m)\u001b[0m\u001b[0;34m\u001b[0m\u001b[0;34m\u001b[0m\u001b[0m\n\u001b[1;32m    489\u001b[0m         \u001b[0mpil_interpolation\u001b[0m \u001b[0;34m=\u001b[0m \u001b[0mpil_modes_mapping\u001b[0m\u001b[0;34m[\u001b[0m\u001b[0minterpolation\u001b[0m\u001b[0;34m]\u001b[0m\u001b[0;34m\u001b[0m\u001b[0;34m\u001b[0m\u001b[0m\n\u001b[0;32m--> 490\u001b[0;31m         \u001b[0;32mreturn\u001b[0m \u001b[0mF_pil\u001b[0m\u001b[0;34m.\u001b[0m\u001b[0mresize\u001b[0m\u001b[0;34m(\u001b[0m\u001b[0mimg\u001b[0m\u001b[0;34m,\u001b[0m \u001b[0msize\u001b[0m\u001b[0;34m=\u001b[0m\u001b[0moutput_size\u001b[0m\u001b[0;34m,\u001b[0m \u001b[0minterpolation\u001b[0m\u001b[0;34m=\u001b[0m\u001b[0mpil_interpolation\u001b[0m\u001b[0;34m)\u001b[0m\u001b[0;34m\u001b[0m\u001b[0;34m\u001b[0m\u001b[0m\n\u001b[0m\u001b[1;32m    491\u001b[0m \u001b[0;34m\u001b[0m\u001b[0m\n\u001b[1;32m    492\u001b[0m     \u001b[0;32mreturn\u001b[0m \u001b[0mF_t\u001b[0m\u001b[0;34m.\u001b[0m\u001b[0mresize\u001b[0m\u001b[0;34m(\u001b[0m\u001b[0mimg\u001b[0m\u001b[0;34m,\u001b[0m \u001b[0msize\u001b[0m\u001b[0;34m=\u001b[0m\u001b[0moutput_size\u001b[0m\u001b[0;34m,\u001b[0m \u001b[0minterpolation\u001b[0m\u001b[0;34m=\u001b[0m\u001b[0minterpolation\u001b[0m\u001b[0;34m.\u001b[0m\u001b[0mvalue\u001b[0m\u001b[0;34m,\u001b[0m \u001b[0mantialias\u001b[0m\u001b[0;34m=\u001b[0m\u001b[0mantialias\u001b[0m\u001b[0;34m)\u001b[0m\u001b[0;34m\u001b[0m\u001b[0;34m\u001b[0m\u001b[0m\n",
            "\u001b[0;32m/usr/local/lib/python3.10/dist-packages/torchvision/transforms/_functional_pil.py\u001b[0m in \u001b[0;36mresize\u001b[0;34m(img, size, interpolation)\u001b[0m\n\u001b[1;32m    248\u001b[0m         \u001b[0;32mraise\u001b[0m \u001b[0mTypeError\u001b[0m\u001b[0;34m(\u001b[0m\u001b[0;34mf\"Got inappropriate size arg: {size}\"\u001b[0m\u001b[0;34m)\u001b[0m\u001b[0;34m\u001b[0m\u001b[0;34m\u001b[0m\u001b[0m\n\u001b[1;32m    249\u001b[0m \u001b[0;34m\u001b[0m\u001b[0m\n\u001b[0;32m--> 250\u001b[0;31m     \u001b[0;32mreturn\u001b[0m \u001b[0mimg\u001b[0m\u001b[0;34m.\u001b[0m\u001b[0mresize\u001b[0m\u001b[0;34m(\u001b[0m\u001b[0mtuple\u001b[0m\u001b[0;34m(\u001b[0m\u001b[0msize\u001b[0m\u001b[0;34m[\u001b[0m\u001b[0;34m:\u001b[0m\u001b[0;34m:\u001b[0m\u001b[0;34m-\u001b[0m\u001b[0;36m1\u001b[0m\u001b[0;34m]\u001b[0m\u001b[0;34m)\u001b[0m\u001b[0;34m,\u001b[0m \u001b[0minterpolation\u001b[0m\u001b[0;34m)\u001b[0m\u001b[0;34m\u001b[0m\u001b[0;34m\u001b[0m\u001b[0m\n\u001b[0m\u001b[1;32m    251\u001b[0m \u001b[0;34m\u001b[0m\u001b[0m\n\u001b[1;32m    252\u001b[0m \u001b[0;34m\u001b[0m\u001b[0m\n",
            "\u001b[0;32m/usr/local/lib/python3.10/dist-packages/PIL/Image.py\u001b[0m in \u001b[0;36mresize\u001b[0;34m(self, size, resample, box, reducing_gap)\u001b[0m\n\u001b[1;32m   2006\u001b[0m                 )\n\u001b[1;32m   2007\u001b[0m \u001b[0;34m\u001b[0m\u001b[0m\n\u001b[0;32m-> 2008\u001b[0;31m         \u001b[0;32mreturn\u001b[0m \u001b[0mself\u001b[0m\u001b[0;34m.\u001b[0m\u001b[0m_new\u001b[0m\u001b[0;34m(\u001b[0m\u001b[0mself\u001b[0m\u001b[0;34m.\u001b[0m\u001b[0mim\u001b[0m\u001b[0;34m.\u001b[0m\u001b[0mresize\u001b[0m\u001b[0;34m(\u001b[0m\u001b[0msize\u001b[0m\u001b[0;34m,\u001b[0m \u001b[0mresample\u001b[0m\u001b[0;34m,\u001b[0m \u001b[0mbox\u001b[0m\u001b[0;34m)\u001b[0m\u001b[0;34m)\u001b[0m\u001b[0;34m\u001b[0m\u001b[0;34m\u001b[0m\u001b[0m\n\u001b[0m\u001b[1;32m   2009\u001b[0m \u001b[0;34m\u001b[0m\u001b[0m\n\u001b[1;32m   2010\u001b[0m     \u001b[0;32mdef\u001b[0m \u001b[0mreduce\u001b[0m\u001b[0;34m(\u001b[0m\u001b[0mself\u001b[0m\u001b[0;34m,\u001b[0m \u001b[0mfactor\u001b[0m\u001b[0;34m,\u001b[0m \u001b[0mbox\u001b[0m\u001b[0;34m=\u001b[0m\u001b[0;32mNone\u001b[0m\u001b[0;34m)\u001b[0m\u001b[0;34m:\u001b[0m\u001b[0;34m\u001b[0m\u001b[0;34m\u001b[0m\u001b[0m\n",
            "\u001b[0;31mKeyboardInterrupt\u001b[0m: "
          ]
        }
      ]
    },
    {
      "cell_type": "code",
      "source": [
        "test_acc(model, test_loader)"
      ],
      "metadata": {
        "id": "JSnssQL0j-AA"
      },
      "execution_count": null,
      "outputs": []
    },
    {
      "cell_type": "code",
      "execution_count": null,
      "metadata": {
        "id": "DLS4GGfxtAex"
      },
      "outputs": [],
      "source": [
        "# loadedModel = VGG16()\n",
        "# model.load_state_dict(torch.load(\"best-model.pt\"))\n",
        "\n",
        "# torch.save(model.state_dict(), \"2023-05-08-best-model.pt\")"
      ]
    },
    {
      "cell_type": "code",
      "execution_count": null,
      "metadata": {
        "id": "-Ewf6DqpsY19"
      },
      "outputs": [],
      "source": [
        "# total_step = len(train_loader)\n",
        "\n",
        "# for epoch in range(epochs):\n",
        "#     for i, (images, labels) in enumerate(train_loader):  \n",
        "#         # Move tensors to the configured device\n",
        "#         images = images.to(deviceFlag)\n",
        "#         labels = labels.to(deviceFlag)\n",
        "        \n",
        "#         # Forward pass\n",
        "#         outputs = model(images)\n",
        "#         loss = criterion(outputs, labels)\n",
        "        \n",
        "#         # Backward and optimize\n",
        "#         optimizer.zero_grad()\n",
        "#         loss.backward()\n",
        "#         optimizer.step()\n",
        "\n",
        "#     print ('Epoch [{}/{}], Step [{}/{}], Loss: {:.4f}' \n",
        "#                    .format(epoch+1, epochs, i+1, total_step, loss.item()))\n",
        "            \n",
        "#     # Validation\n",
        "#     with torch.no_grad():\n",
        "#         correct = 0\n",
        "#         total = 0\n",
        "#         for images, labels in validate_loader:\n",
        "#             images = images.to(deviceFlag)\n",
        "#             labels = labels.to(deviceFlag)\n",
        "#             outputs = model(images)\n",
        "#             _, predicted = torch.max(outputs.data, 1)\n",
        "#             total += labels.size(0)\n",
        "#             correct += (predicted == labels).sum().item()\n",
        "#             del images, labels, outputs\n",
        "    \n",
        "#         print('Accuracy of the network on the {} validation images: {} %'.format(total, 100 * correct / total)) \n"
      ]
    },
    {
      "cell_type": "code",
      "execution_count": null,
      "metadata": {
        "id": "nOkitkfYsZHM"
      },
      "outputs": [],
      "source": [
        "# with torch.no_grad():\n",
        "#     correct = 0\n",
        "#     total = 0\n",
        "#     for images, labels in test_loader:\n",
        "#         images = images.to(deviceFlag)\n",
        "#         labels = labels.to(deviceFlag)\n",
        "#         outputs = model(images)\n",
        "#         _, predicted = torch.max(outputs.data, 1)\n",
        "#         total += labels.size(0)\n",
        "#         correct += (predicted == labels).sum().item()\n",
        "#         del images, labels, outputs\n",
        "\n",
        "#     print('Accuracy of the network on the {} test images: {} %'.format(total, 100 * correct / total))   "
      ]
    }
  ],
  "metadata": {
    "accelerator": "GPU",
    "colab": {
      "gpuType": "T4",
      "provenance": [],
      "machine_shape": "hm"
    },
    "gpuClass": "standard",
    "kernelspec": {
      "display_name": "Python 3",
      "language": "python",
      "name": "python3"
    },
    "language_info": {
      "codemirror_mode": {
        "name": "ipython",
        "version": 3
      },
      "file_extension": ".py",
      "mimetype": "text/x-python",
      "name": "python",
      "nbconvert_exporter": "python",
      "pygments_lexer": "ipython3",
      "version": "3.9.13"
    },
    "orig_nbformat": 4
  },
  "nbformat": 4,
  "nbformat_minor": 0
}