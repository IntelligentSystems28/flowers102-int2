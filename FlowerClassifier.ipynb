{
  "cells": [
    {
      "cell_type": "code",
      "execution_count": 141,
      "metadata": {
        "ExecuteTime": {
          "end_time": "2023-05-06T02:42:30.107696Z",
          "start_time": "2023-05-06T02:42:27.187630500Z"
        },
        "id": "W9QpA0RFXaeG"
      },
      "outputs": [],
      "source": [
        "import numpy as np\n",
        "import matplotlib.pyplot as plt\n",
        "import time\n",
        "from PIL import Image\n",
        "\n",
        "import torch\n",
        "from torch import nn\n",
        "from torch import optim\n",
        "from torchvision import datasets, transforms, models\n",
        "\n",
        "from collections import OrderedDict"
      ]
    },
    {
      "cell_type": "code",
      "execution_count": 142,
      "metadata": {
        "ExecuteTime": {
          "end_time": "2023-05-06T02:42:30.121911300Z",
          "start_time": "2023-05-06T02:42:30.109702900Z"
        },
        "id": "hxEFQSjDXaeS"
      },
      "outputs": [],
      "source": [
        "tr_batchsize = 64\n",
        "val_test_batchsize = 32\n",
        "epochs = 60\n",
        "lr = 0.0001"
      ]
    },
    {
      "cell_type": "code",
      "execution_count": 143,
      "metadata": {
        "ExecuteTime": {
          "end_time": "2023-05-06T02:42:30.166461200Z",
          "start_time": "2023-05-06T02:42:30.124922400Z"
        },
        "colab": {
          "base_uri": "https://localhost:8080/"
        },
        "id": "utaO7saJXaeU",
        "outputId": "8c097889-3790-40cc-80e8-3c0b09856ac5"
      },
      "outputs": [
        {
          "output_type": "stream",
          "name": "stdout",
          "text": [
            "Found 1 GPUs.\n",
            "Now the deivce is set to cuda:0\n"
          ]
        }
      ],
      "source": [
        "# By defalt, set device to the CPU\n",
        "deviceFlag = torch.device('cpu')\n",
        "\n",
        "# Default is CPU, but as long as GPU is avaliable, then use GPU\n",
        "if torch.cuda.is_available():\n",
        "    print(f'Found {torch.cuda.device_count()} GPUs.')\n",
        "    deviceFlag = torch.device('cuda:0') # Manually pick your cuda device. By default is 'cuda:0'\n",
        "\n",
        "print(f'Now the deivce is set to {deviceFlag}')"
      ]
    },
    {
      "cell_type": "markdown",
      "metadata": {
        "id": "BJHUEMBdXaeY"
      },
      "source": [
        "# Validation Function"
      ]
    },
    {
      "cell_type": "code",
      "execution_count": 144,
      "metadata": {
        "ExecuteTime": {
          "end_time": "2023-05-06T02:47:50.942069700Z",
          "start_time": "2023-05-06T02:47:50.925699Z"
        },
        "id": "gaO-2WtYXaec"
      },
      "outputs": [],
      "source": [
        "def validation(model, validate_loader, val_criterion):\n",
        "    \n",
        "    val_loss_running = 0\n",
        "    acc = 0\n",
        "    \n",
        "    # a dataloader object is a generator of batches, each batch contain image & label separately\n",
        "    for images, labels in iter(validate_loader):\n",
        "        \n",
        "        # Send the data onto choosen device\n",
        "        images = images.to(deviceFlag)\n",
        "        labels = labels.to(deviceFlag)\n",
        "        \n",
        "        output = model.forward(images)\n",
        "        val_loss_running += val_criterion(output, labels).item() #*images.size(0) # .item() to get a scalar in Torch.tensor out\n",
        "        \n",
        "        probabilities = torch.exp(output) # as in the model we use the .LogSoftmax() output layer\n",
        "\n",
        "        equality = (labels.data == probabilities.max(dim=1)[1])\n",
        "        acc += equality.type(torch.FloatTensor).mean()\n",
        "        \n",
        "    return val_loss_running, acc"
      ]
    },
    {
      "cell_type": "markdown",
      "metadata": {
        "id": "aiTV0IYLXaef"
      },
      "source": [
        "# Training Function\n",
        "(Calls Validation function)"
      ]
    },
    {
      "cell_type": "code",
      "source": [
        "def train_model():\n",
        "      steps = 0\n",
        "      print_every = 16\n",
        "\n",
        "      model.to(deviceFlag)\n",
        "\n",
        "      for current_epoch in range(epochs):\n",
        "          model.train()\n",
        "    \n",
        "          running_loss = 0\n",
        "    \n",
        "          for images, labels in iter(train_loader):\n",
        "        \n",
        "              steps += 1\n",
        "        \n",
        "              images = images.to(deviceFlag)\n",
        "              labels = labels.to(deviceFlag)\n",
        "        \n",
        "              optimizer.zero_grad()\n",
        "        \n",
        "              output = model.forward(images)\n",
        "              loss = criterion(output, labels)\n",
        "              loss.backward()\n",
        "              optimizer.step()\n",
        "        \n",
        "              running_loss += loss.item()\n",
        "        \n",
        "              if steps % print_every == 0:\n",
        "                \n",
        "                  model.eval()\n",
        "                \n",
        "                  # Turn off gradients for validation, saves memory and computations\n",
        "                  with torch.no_grad():\n",
        "                      validation_loss, accuracy = validation(model, validate_loader, criterion)\n",
        "            \n",
        "                  print(\"Epoch: {}/{}.. \".format(current_epoch+1, epochs),\n",
        "                        \"Training Loss: {:.3f}... \".format(running_loss/print_every),\n",
        "                        \"Validation Loss: {:.3f}... \".format(validation_loss/len(validate_loader)),\n",
        "                        \"Validation Accuracy: {:.3f}\".format(accuracy/len(validate_loader)))\n",
        "            \n",
        "                  running_loss = 0\n",
        "                  model.train()"
      ],
      "metadata": {
        "id": "OdP4ieh-cEhp"
      },
      "execution_count": 145,
      "outputs": []
    },
    {
      "cell_type": "markdown",
      "metadata": {
        "id": "ydLbMZ3bXaej"
      },
      "source": [
        "# Test Function"
      ]
    },
    {
      "cell_type": "code",
      "source": [
        "def test_acc(model, test_loader):\n",
        "\n",
        "    # Do validation on the test set\n",
        "    model.eval()\n",
        "    model.to(deviceFlag)\n",
        "\n",
        "    with torch.no_grad():\n",
        "    \n",
        "        accuracy = 0\n",
        "    \n",
        "        for images, labels in iter(test_loader):\n",
        "    \n",
        "            images, labels = images.to(deviceFlag), labels.to(deviceFlag)\n",
        "    \n",
        "            output = model.forward(images)\n",
        "\n",
        "            probabilities = torch.exp(output)\n",
        "        \n",
        "            equality = (labels.data == probabilities.max(dim=1)[1])\n",
        "        \n",
        "            accuracy += equality.type(torch.FloatTensor).mean()\n",
        "        \n",
        "        print(\"Test Accuracy: {}\".format(accuracy/len(test_loader)))    \n",
        "        \n",
        "        "
      ],
      "metadata": {
        "id": "UTpojsKscKYN"
      },
      "execution_count": 146,
      "outputs": []
    },
    {
      "cell_type": "markdown",
      "metadata": {
        "id": "_685vsvbXaew"
      },
      "source": [
        "# Dataset Loading"
      ]
    },
    {
      "cell_type": "code",
      "execution_count": 147,
      "metadata": {
        "ExecuteTime": {
          "end_time": "2023-05-06T02:42:30.528548400Z",
          "start_time": "2023-05-06T02:42:30.282928200Z"
        },
        "id": "gqNirA-VXaew"
      },
      "outputs": [],
      "source": [
        "training_transforms = transforms.Compose([\n",
        "    transforms.RandomRotation(90),\n",
        "    transforms.RandomResizedCrop(224),\n",
        "    transforms.RandomAdjustSharpness(1.5, 0.5),\n",
        "    # transforms.RandomErasing(),\n",
        "    transforms.RandomHorizontalFlip(),\n",
        "    transforms.RandomVerticalFlip(),\n",
        "    transforms.ToTensor(),\n",
        "    transforms.Normalize([0.485, 0.456, 0.406],\n",
        "                         [0.229, 0.224, 0.225])\n",
        "])\n",
        "\n",
        "validation_transforms = transforms.Compose([\n",
        "    transforms.Resize(256),\n",
        "    transforms.CenterCrop(224),\n",
        "    transforms.ToTensor(),\n",
        "    transforms.Normalize([0.485, 0.456, 0.406], # RGB mean & std estied on ImageNet\n",
        "                         [0.229, 0.224, 0.225])\n",
        "])\n",
        "\n",
        "testing_transforms = transforms.Compose([\n",
        "    transforms.Resize(256),\n",
        "    transforms.CenterCrop(224),\n",
        "    transforms.ToTensor(),\n",
        "    transforms.Normalize([0.485, 0.456, 0.406], # RGB mean & std estied on ImageNet\n",
        "                         [0.229, 0.224, 0.225])\n",
        "])\n",
        "\n",
        "# Load the datasets with torchvision.datasets.ImageFolder object\n",
        "train_dataset = datasets.Flowers102(root = './dataset', split = 'train', transform = training_transforms, download = True)\n",
        "valid_dataset = datasets.Flowers102(root = './dataset', split = 'val', transform = validation_transforms, download = True)\n",
        "test_dataset = datasets.Flowers102(root = './dataset', split = 'test', transform = testing_transforms, download = True)\n",
        "\n",
        "# Instantiate loader objects to facilitate processing\n",
        "\n",
        "\n",
        "# Define the torch.utils.data.DataLoader() object with the ImageFolder object\n",
        "# Dataloader is a generator to read from ImageFolder and generate them into batch-by-batch\n",
        "# Only shuffle during trianing, validation and testing no shuffles\n",
        "# the batchsize for training and tesitng no need to be the same\n",
        "train_loader = torch.utils.data.DataLoader(dataset = train_dataset,\n",
        "                                           batch_size = tr_batchsize,\n",
        "                                           shuffle = True)\n",
        "\n",
        "validate_loader = torch.utils.data.DataLoader(dataset = valid_dataset,\n",
        "                                           batch_size = val_test_batchsize)\n",
        "\n",
        "\n",
        "test_loader = torch.utils.data.DataLoader(dataset = test_dataset,\n",
        "                                           batch_size = val_test_batchsize)"
      ]
    },
    {
      "cell_type": "code",
      "execution_count": 148,
      "metadata": {
        "ExecuteTime": {
          "end_time": "2023-05-06T02:42:56.213969300Z",
          "start_time": "2023-05-06T02:42:56.192640200Z"
        },
        "id": "hUdVmQ1-ajZb"
      },
      "outputs": [],
      "source": [
        "class VGG16(nn.Module):\n",
        "    def __init__(self):\n",
        "        super(VGG16, self).__init__()\n",
        "        self.layer1 = nn.Sequential(\n",
        "            nn.Conv2d(3, 32, kernel_size=3, stride=1, padding=1),\n",
        "            nn.BatchNorm2d(32),\n",
        "            nn.ReLU(),\n",
        "            nn.Conv2d(32, 32, kernel_size=3, stride=1, padding=1),\n",
        "            # nn.BatchNorm2d(32),\n",
        "            nn.ReLU(), \n",
        "            nn.MaxPool2d(kernel_size = 2, stride = 2),\n",
        "            nn.Conv2d(32, 64, kernel_size=3, stride=1, padding=1),\n",
        "            # nn.BatchNorm2d(64), \n",
        "            nn.ReLU(), \n",
        "            nn.MaxPool2d(kernel_size = 4, stride = 4),\n",
        "            nn.Conv2d(64, 64, kernel_size=3, stride=1, padding=1),\n",
        "            nn.BatchNorm2d(64),\n",
        "            nn.ReLU(),\n",
        "            nn.AvgPool2d(kernel_size = 2))\n",
        "            # nn.Conv2d(64, 64, kernel_size=3, stride=1, padding=1),\n",
        "            # # nn.BatchNorm2d(64),\n",
        "            # nn.ReLU(),\n",
        "            # nn.MaxPool2d(kernel_size = 2, stride = 2))\n",
        "            #nn.Conv2d(64, 128, kernel_size=3, stride=1, padding=1),\n",
        "            # nn.BatchNorm2d(128),\n",
        "            #nn.ReLU())\n",
        "            #nn.Conv2d(128, 128, kernel_size=3, stride=1, padding=1),\n",
        "            #nn.BatchNorm2d(128),\n",
        "            #nn.ReLU())\n",
        "            #nn.Conv2d(128, 256, kernel_size=3, stride=1, padding=1),\n",
        "            #nn.BatchNorm2d(256),\n",
        "            #nn.ReLU(),\n",
        "            #nn.MaxPool2d(kernel_size = 2, stride = 2))\n",
        "            #nn.Conv2d(256, 512, kernel_size=3, stride=1, padding=1),\n",
        "            #nn.BatchNorm2d(512),\n",
        "            #nn.ReLU())\n",
        "            #nn.Conv2d(512, 512, kernel_size=3, stride=1, padding=1),\n",
        "            #nn.BatchNorm2d(512),\n",
        "            #nn.ReLU())\n",
        "            #nn.Conv2d(512, 512, kernel_size=3, stride=1, padding=1),\n",
        "            #nn.BatchNorm2d(512),\n",
        "            #nn.ReLU(),\n",
        "            #nn.MaxPool2d(kernel_size = 2, stride = 2))\n",
        "            #nn.Conv2d(512, 512, kernel_size=3, stride=1, padding=1),\n",
        "            #nn.BatchNorm2d(512),\n",
        "            #nn.ReLU())\n",
        "            #nn.Conv2d(512, 512, kernel_size=3, stride=1, padding=1),\n",
        "            #nn.BatchNorm2d(512),\n",
        "            #nn.ReLU())\n",
        "            #nn.Conv2d(512, 512, kernel_size=3, stride=1, padding=1),\n",
        "            #nn.BatchNorm2d(512),\n",
        "            #nn.ReLU(),\n",
        "            #nn.MaxPool2d(kernel_size = 2, stride = 2))\n",
        "\n",
        "        self.fc = nn.Sequential(\n",
        "            nn.Flatten(),\n",
        "            nn.Dropout(0.3),\n",
        "            # first linear must be image size * image size * last Conv2d out channel\n",
        "            nn.Linear(7*7*256, 1024),\n",
        "            nn.ReLU(),\n",
        "            # nn.Dropout(0.5),\n",
        "            nn.Linear(1024, 512),\n",
        "            nn.ReLU(),\n",
        "            #final linear to number of classes\n",
        "            nn.Linear(512, 102),\n",
        "            nn.LogSoftmax(dim=1))\n",
        "\n",
        "        \n",
        "    def forward(self, x):\n",
        "        out = self.layer1(x)\n",
        "\n",
        "        out = self.fc(out)\n",
        "\n",
        "        return out"
      ]
    },
    {
      "cell_type": "code",
      "execution_count": 149,
      "metadata": {
        "ExecuteTime": {
          "end_time": "2023-05-06T02:42:58.741422200Z",
          "start_time": "2023-05-06T02:42:57.999495100Z"
        },
        "colab": {
          "base_uri": "https://localhost:8080/"
        },
        "id": "aWmJtZd2Xaex",
        "outputId": "c0e2d2e0-1047-4570-ddf5-ed302dbb593d"
      },
      "outputs": [
        {
          "output_type": "execute_result",
          "data": {
            "text/plain": [
              "VGG16(\n",
              "  (layer1): Sequential(\n",
              "    (0): Conv2d(3, 32, kernel_size=(3, 3), stride=(1, 1), padding=(1, 1))\n",
              "    (1): BatchNorm2d(32, eps=1e-05, momentum=0.1, affine=True, track_running_stats=True)\n",
              "    (2): ReLU()\n",
              "    (3): Conv2d(32, 32, kernel_size=(3, 3), stride=(1, 1), padding=(1, 1))\n",
              "    (4): BatchNorm2d(32, eps=1e-05, momentum=0.1, affine=True, track_running_stats=True)\n",
              "    (5): ReLU()\n",
              "    (6): MaxPool2d(kernel_size=2, stride=2, padding=0, dilation=1, ceil_mode=False)\n",
              "    (7): Conv2d(32, 64, kernel_size=(3, 3), stride=(1, 1), padding=(1, 1))\n",
              "    (8): BatchNorm2d(64, eps=1e-05, momentum=0.1, affine=True, track_running_stats=True)\n",
              "    (9): ReLU()\n",
              "    (10): MaxPool2d(kernel_size=4, stride=4, padding=0, dilation=1, ceil_mode=False)\n",
              "    (11): Conv2d(64, 64, kernel_size=(3, 3), stride=(1, 1), padding=(1, 1))\n",
              "    (12): BatchNorm2d(64, eps=1e-05, momentum=0.1, affine=True, track_running_stats=True)\n",
              "    (13): ReLU()\n",
              "    (14): AvgPool2d(kernel_size=2, stride=2, padding=0)\n",
              "  )\n",
              "  (fc): Sequential(\n",
              "    (0): Flatten(start_dim=1, end_dim=-1)\n",
              "    (1): Dropout(p=0.3, inplace=False)\n",
              "    (2): Linear(in_features=12544, out_features=1024, bias=True)\n",
              "    (3): ReLU()\n",
              "    (4): Linear(in_features=1024, out_features=512, bias=True)\n",
              "    (5): ReLU()\n",
              "    (6): Linear(in_features=512, out_features=102, bias=True)\n",
              "    (7): LogSoftmax(dim=1)\n",
              "  )\n",
              ")"
            ]
          },
          "metadata": {},
          "execution_count": 149
        }
      ],
      "source": [
        "model = VGG16()\n",
        "model.to(deviceFlag)\n",
        "model"
      ]
    },
    {
      "cell_type": "code",
      "execution_count": 150,
      "metadata": {
        "ExecuteTime": {
          "end_time": "2023-05-06T02:42:59.456119100Z",
          "start_time": "2023-05-06T02:42:59.429376100Z"
        },
        "id": "DclH6p0JXaey"
      },
      "outputs": [],
      "source": [
        "# for params in model.parameters():\n",
        "#     params.requries_grad = False"
      ]
    },
    {
      "cell_type": "markdown",
      "metadata": {
        "id": "bNuQ_KXFXae0"
      },
      "source": [
        "# Define Loss Function and Optimizer"
      ]
    },
    {
      "cell_type": "code",
      "execution_count": 151,
      "metadata": {
        "ExecuteTime": {
          "end_time": "2023-05-06T02:45:27.688621300Z",
          "start_time": "2023-05-06T02:45:27.668568900Z"
        },
        "id": "kgDNGJAxXae0"
      },
      "outputs": [],
      "source": [
        "# Negative Log Likelihood Loss\n",
        "# criterion = nn.NLLLoss()\n",
        "\n",
        "# Cross Entropy Loss\n",
        "criterion = nn.CrossEntropyLoss()\n",
        "\n",
        "# optimizer 1\n",
        "optimizer = optim.Adam(model.parameters(), lr = lr)\n",
        "\n",
        "# optimizer 2\n",
        "# optimizer = torch.optim.SGD(model.parameters(), lr=lr, momentum = 0.9)"
      ]
    },
    {
      "cell_type": "code",
      "source": [
        "train_model()"
      ],
      "metadata": {
        "id": "7C7lTL2ajQJm",
        "colab": {
          "base_uri": "https://localhost:8080/"
        },
        "outputId": "e27c2930-dd0d-4f2b-d306-0dbe210bbf99"
      },
      "execution_count": null,
      "outputs": [
        {
          "output_type": "stream",
          "name": "stdout",
          "text": [
            "Epoch: 1/60..  Training Loss: 4.621...  Validation Loss: 4.609...  Validation Accuracy: 0.010\n",
            "Epoch: 2/60..  Training Loss: 4.398...  Validation Loss: 4.310...  Validation Accuracy: 0.055\n",
            "Epoch: 3/60..  Training Loss: 4.092...  Validation Loss: 3.864...  Validation Accuracy: 0.116\n",
            "Epoch: 4/60..  Training Loss: 3.822...  Validation Loss: 3.616...  Validation Accuracy: 0.127\n",
            "Epoch: 5/60..  Training Loss: 3.609...  Validation Loss: 3.464...  Validation Accuracy: 0.164\n",
            "Epoch: 6/60..  Training Loss: 3.424...  Validation Loss: 3.297...  Validation Accuracy: 0.215\n",
            "Epoch: 7/60..  Training Loss: 3.286...  Validation Loss: 3.203...  Validation Accuracy: 0.215\n"
          ]
        }
      ]
    },
    {
      "cell_type": "code",
      "source": [
        "test_acc(model, test_loader)"
      ],
      "metadata": {
        "id": "JSnssQL0j-AA"
      },
      "execution_count": null,
      "outputs": []
    },
    {
      "cell_type": "code",
      "execution_count": null,
      "metadata": {
        "id": "DLS4GGfxtAex"
      },
      "outputs": [],
      "source": [
        "# torch.save(model.state_dict(), \"2023-05-06--03-00-model.pt\")"
      ]
    },
    {
      "cell_type": "code",
      "execution_count": null,
      "metadata": {
        "id": "-Ewf6DqpsY19"
      },
      "outputs": [],
      "source": [
        "# total_step = len(train_loader)\n",
        "\n",
        "# for epoch in range(epochs):\n",
        "#     for i, (images, labels) in enumerate(train_loader):  \n",
        "#         # Move tensors to the configured device\n",
        "#         images = images.to(deviceFlag)\n",
        "#         labels = labels.to(deviceFlag)\n",
        "        \n",
        "#         # Forward pass\n",
        "#         outputs = model(images)\n",
        "#         loss = criterion(outputs, labels)\n",
        "        \n",
        "#         # Backward and optimize\n",
        "#         optimizer.zero_grad()\n",
        "#         loss.backward()\n",
        "#         optimizer.step()\n",
        "\n",
        "#     print ('Epoch [{}/{}], Step [{}/{}], Loss: {:.4f}' \n",
        "#                    .format(epoch+1, epochs, i+1, total_step, loss.item()))\n",
        "            \n",
        "#     # Validation\n",
        "#     with torch.no_grad():\n",
        "#         correct = 0\n",
        "#         total = 0\n",
        "#         for images, labels in validate_loader:\n",
        "#             images = images.to(deviceFlag)\n",
        "#             labels = labels.to(deviceFlag)\n",
        "#             outputs = model(images)\n",
        "#             _, predicted = torch.max(outputs.data, 1)\n",
        "#             total += labels.size(0)\n",
        "#             correct += (predicted == labels).sum().item()\n",
        "#             del images, labels, outputs\n",
        "    \n",
        "#         print('Accuracy of the network on the {} validation images: {} %'.format(total, 100 * correct / total)) \n"
      ]
    },
    {
      "cell_type": "code",
      "execution_count": null,
      "metadata": {
        "id": "nOkitkfYsZHM"
      },
      "outputs": [],
      "source": [
        "# with torch.no_grad():\n",
        "#     correct = 0\n",
        "#     total = 0\n",
        "#     for images, labels in test_loader:\n",
        "#         images = images.to(deviceFlag)\n",
        "#         labels = labels.to(deviceFlag)\n",
        "#         outputs = model(images)\n",
        "#         _, predicted = torch.max(outputs.data, 1)\n",
        "#         total += labels.size(0)\n",
        "#         correct += (predicted == labels).sum().item()\n",
        "#         del images, labels, outputs\n",
        "\n",
        "#     print('Accuracy of the network on the {} test images: {} %'.format(total, 100 * correct / total))   "
      ]
    }
  ],
  "metadata": {
    "accelerator": "GPU",
    "colab": {
      "gpuType": "T4",
      "provenance": []
    },
    "gpuClass": "standard",
    "kernelspec": {
      "display_name": "Python 3",
      "language": "python",
      "name": "python3"
    },
    "language_info": {
      "codemirror_mode": {
        "name": "ipython",
        "version": 3
      },
      "file_extension": ".py",
      "mimetype": "text/x-python",
      "name": "python",
      "nbconvert_exporter": "python",
      "pygments_lexer": "ipython3",
      "version": "3.9.13"
    },
    "orig_nbformat": 4
  },
  "nbformat": 4,
  "nbformat_minor": 0
}